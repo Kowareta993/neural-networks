{
 "cells": [
  {
   "cell_type": "markdown",
   "id": "339da203",
   "metadata": {
    "pycharm": {
     "name": "#%% md\n"
    }
   },
   "source": [
    "# Rules\n",
    "- You are not allowed to add or remove cells. You **must use the provided space to write your code**. If you don't follow this rule, **your Practical Assignment won't be graded**. \n",
    "- You **are** allowed to use **for loops** only in the implementation of the **FullyConnectedNet** class. "
   ]
  },
  {
   "cell_type": "code",
   "execution_count": 10,
   "id": "881f2e4c",
   "metadata": {
    "pycharm": {
     "name": "#%%\n"
    }
   },
   "outputs": [
    {
     "name": "stdout",
     "output_type": "stream",
     "text": [
      "Requirement already satisfied: future in /home/kowareta/lib/python3.8/site-packages (0.18.2)\r\n",
      "\u001b[33mWARNING: You are using pip version 21.3.1; however, version 22.1.2 is available.\r\n",
      "You should consider upgrading via the '/home/kowareta/bin/python -m pip install --upgrade pip' command.\u001b[0m\r\n",
      "Requirement already satisfied: pandas in /home/kowareta/lib/python3.8/site-packages (1.4.2)\r\n",
      "Requirement already satisfied: numpy>=1.18.5 in /home/kowareta/lib/python3.8/site-packages (from pandas) (1.22.4)\r\n",
      "Requirement already satisfied: python-dateutil>=2.8.1 in /home/kowareta/lib/python3.8/site-packages (from pandas) (2.8.2)\r\n",
      "Requirement already satisfied: pytz>=2020.1 in /home/kowareta/lib/python3.8/site-packages (from pandas) (2022.1)\r\n",
      "Requirement already satisfied: six>=1.5 in /home/kowareta/lib/python3.8/site-packages (from python-dateutil>=2.8.1->pandas) (1.16.0)\r\n",
      "\u001b[33mWARNING: You are using pip version 21.3.1; however, version 22.1.2 is available.\r\n",
      "You should consider upgrading via the '/home/kowareta/bin/python -m pip install --upgrade pip' command.\u001b[0m\r\n",
      "Requirement already satisfied: torchvision in /home/kowareta/lib/python3.8/site-packages (0.12.0)\r\n",
      "Requirement already satisfied: torch==1.11.0 in /home/kowareta/lib/python3.8/site-packages (from torchvision) (1.11.0)\r\n",
      "Requirement already satisfied: pillow!=8.3.*,>=5.3.0 in /home/kowareta/lib/python3.8/site-packages (from torchvision) (9.1.1)\r\n",
      "Requirement already satisfied: typing-extensions in /home/kowareta/lib/python3.8/site-packages (from torchvision) (4.2.0)\r\n",
      "Requirement already satisfied: numpy in /home/kowareta/lib/python3.8/site-packages (from torchvision) (1.22.4)\r\n",
      "Requirement already satisfied: requests in /home/kowareta/lib/python3.8/site-packages (from torchvision) (2.28.0)\r\n",
      "Requirement already satisfied: charset-normalizer~=2.0.0 in /home/kowareta/lib/python3.8/site-packages (from requests->torchvision) (2.0.12)\r\n",
      "Requirement already satisfied: certifi>=2017.4.17 in /home/kowareta/lib/python3.8/site-packages (from requests->torchvision) (2022.6.15)\r\n",
      "Requirement already satisfied: idna<4,>=2.5 in /home/kowareta/lib/python3.8/site-packages (from requests->torchvision) (3.3)\r\n",
      "Requirement already satisfied: urllib3<1.27,>=1.21.1 in /home/kowareta/lib/python3.8/site-packages (from requests->torchvision) (1.26.9)\r\n",
      "\u001b[33mWARNING: You are using pip version 21.3.1; however, version 22.1.2 is available.\r\n",
      "You should consider upgrading via the '/home/kowareta/bin/python -m pip install --upgrade pip' command.\u001b[0m\r\n"
     ]
    }
   ],
   "source": [
    "!pip install future\n",
    "!pip install pandas\n",
    "!pip install torchvision"
   ]
  },
  {
   "cell_type": "code",
   "execution_count": 11,
   "id": "8efb6140",
   "metadata": {
    "pycharm": {
     "name": "#%%\n"
    }
   },
   "outputs": [],
   "source": [
    "from Helper_codes.gradient_check import eval_numerical_gradient, eval_numerical_gradient_array\n",
    "from Helper_codes.MNIST_data import get_MNIST_data, get_normalized_MNIST_data\n",
    "from builtins import range\n",
    "import numpy as np\n",
    "import matplotlib.pyplot as plt\n",
    "from Helper_codes.solver import *\n",
    "import pandas as pd\n",
    "from sklearn.datasets import fetch_california_housing\n",
    "from Helper_codes.california_housing import *\n",
    "\n",
    "\n",
    "% matplotlib inline\n",
    "plt.rcParams['figure.figsize'] = (10.0, 8.0)  # set default size of plots\n",
    "plt.rcParams['image.cmap'] = 'gray'\n",
    "\n",
    "\n",
    "def rel_error(x, y):\n",
    "    \"\"\" returns relative error \"\"\"\n",
    "    return np.max(np.abs(x - y) / (np.maximum(1e-8, np.abs(x) + np.abs(y))))\n",
    "\n",
    "\n",
    "def print_mean_std(x, axis=0):\n",
    "    print(f\"  means: {x.mean(axis=axis)}\")\n",
    "    print(f\"  stds:  {x.std(axis=axis)}\\n\")"
   ]
  },
  {
   "cell_type": "markdown",
   "id": "57c3af9e",
   "metadata": {
    "pycharm": {
     "name": "#%% md\n"
    }
   },
   "source": [
    "# Fully-Connected Neural Nets\n",
    "In this exercise we will implement fully-connected networks using a modular approach. For each layer we will implement a `forward` and a `backward` function. The `forward` function will receive inputs, weights, and other parameters and will return both an output and a `cache` object storing data needed for the backward pass, like this:\n",
    "\n",
    "```python\n",
    "def layer_forward(x, w):\n",
    "  \"\"\" Receive inputs x and weights w \"\"\"\n",
    "  # Do some computations ...\n",
    "  z = # ... some intermediate value\n",
    "  # Do some more computations ...\n",
    "  out = # the output\n",
    "   \n",
    "  cache = (x, w, z, out) # Values we need to compute gradients\n",
    "   \n",
    "  return out, cache\n",
    "```\n",
    "\n",
    "The backward pass will receive upstream derivatives and the `cache` object, and will return gradients with respect to the inputs and weights, like this:\n",
    "\n",
    "```python\n",
    "def layer_backward(dout, cache):\n",
    "  \"\"\"\n",
    "  Receive dout (derivative of loss with respect to outputs) and cache,\n",
    "  and compute derivative with respect to inputs.\n",
    "  \"\"\"\n",
    "  # Unpack cache values\n",
    "  x, w, z, out = cache\n",
    "  \n",
    "  # Use values in cache to compute derivatives\n",
    "  dx = # Derivative of loss with respect to x\n",
    "  dw = # Derivative of loss with respect to w\n",
    "  \n",
    "  return dx, dw\n",
    "```\n",
    "\n",
    "After implementing a bunch of layers this way, we will be able to easily combine them to build classifiers with different architectures."
   ]
  },
  {
   "cell_type": "markdown",
   "id": "649895ab",
   "metadata": {
    "pycharm": {
     "name": "#%% md\n"
    }
   },
   "source": [
    "# Affine layer: forward\n",
    "Implement the `affine_forward` function."
   ]
  },
  {
   "cell_type": "code",
   "execution_count": 12,
   "id": "03c584b4",
   "metadata": {
    "pycharm": {
     "name": "#%%\n"
    }
   },
   "outputs": [],
   "source": [
    "def affine_forward(x, w, b):\n",
    "    \"\"\"\n",
    "    Computes the forward pass for an affine (fully-connected) layer.\n",
    "\n",
    "    The input x has shape (N, d_1, ..., d_k) and contains a minibatch of N\n",
    "    examples, where each example x[i] has shape (d_1, ..., d_k). We will\n",
    "    reshape each input into a vector of dimension D = d_1 * ... * d_k, and\n",
    "    then transform it to an output vector of dimension M.\n",
    "\n",
    "    Inputs:\n",
    "    - x: A numpy array containing input data, of shape (N, d_1, ..., d_k)\n",
    "    - w: A numpy array of weights, of shape (D, M)\n",
    "    - b: A numpy array of biases, of shape (M,)\n",
    "\n",
    "    Returns a tuple of:\n",
    "    - out: output, of shape (N, M)\n",
    "    - cache: (x, w, b)\n",
    "    \"\"\"\n",
    "    ###########################################################################\n",
    "    # TODO: Implement the affine forward pass. Store the result in out. You   #\n",
    "    # will need to reshape the input into rows.                               #\n",
    "    ###########################################################################\n",
    "    # *****START OF YOUR CODE (DO NOT DELETE/MODIFY THIS LINE)*****\n",
    "    N = x.shape[0]\n",
    "    D = np.prod(x.shape[1:])\n",
    "    o = np.dot(x.reshape(N, D), w) + b\n",
    "    return o, (x, w, b)"
   ]
  },
  {
   "cell_type": "markdown",
   "id": "acdd5827",
   "metadata": {
    "pycharm": {
     "name": "#%% md\n"
    }
   },
   "source": [
    "You can test your implementaion by running the following:"
   ]
  },
  {
   "cell_type": "code",
   "execution_count": 13,
   "id": "80db2fe8",
   "metadata": {
    "pycharm": {
     "name": "#%%\n"
    }
   },
   "outputs": [
    {
     "name": "stdout",
     "output_type": "stream",
     "text": [
      "Testing affine_forward function:\n",
      "difference:  9.769849468192957e-10\n"
     ]
    }
   ],
   "source": [
    "# Test the affine_forward function\n",
    "\n",
    "num_inputs = 2\n",
    "input_shape = (4, 5, 6)\n",
    "output_dim = 3\n",
    "\n",
    "input_size = num_inputs * np.prod(input_shape)\n",
    "weight_size = output_dim * np.prod(input_shape)\n",
    "\n",
    "x = np.linspace(-0.1, 0.5, num=input_size).reshape(num_inputs, *input_shape)\n",
    "w = np.linspace(-0.2, 0.3, num=weight_size).reshape(np.prod(input_shape), output_dim)\n",
    "b = np.linspace(-0.3, 0.1, num=output_dim)\n",
    "\n",
    "out, _ = affine_forward(x, w, b)\n",
    "correct_out = np.array([[1.49834967, 1.70660132, 1.91485297],\n",
    "                        [3.25553199, 3.5141327, 3.77273342]])\n",
    "\n",
    "# Compare your output with ours. The error should be around e-9 or less.\n",
    "print('Testing affine_forward function:')\n",
    "print('difference: ', rel_error(out, correct_out))"
   ]
  },
  {
   "cell_type": "markdown",
   "id": "8e64b312",
   "metadata": {
    "pycharm": {
     "name": "#%% md\n"
    }
   },
   "source": [
    "# Affine layer: backward\n",
    "Now implement the `affine_backward` function and test your implementation using numeric gradient checking."
   ]
  },
  {
   "cell_type": "code",
   "execution_count": 14,
   "id": "e61d5b9c",
   "metadata": {
    "pycharm": {
     "name": "#%%\n"
    }
   },
   "outputs": [],
   "source": [
    "def affine_backward(dout, cache):\n",
    "    \"\"\"\n",
    "    Computes the backward pass for an affine layer.\n",
    "\n",
    "    Inputs:\n",
    "    - dout: Upstream derivative, of shape (N, M)\n",
    "    - cache: Tuple of:\n",
    "      - x: Input data, of shape (N, d_1, ... d_k)\n",
    "      - w: Weights, of shape (D, M)\n",
    "      - b: Biases, of shape (M,)\n",
    "\n",
    "    Returns a tuple of:\n",
    "    - dx: Gradient with respect to x, of shape (N, d1, ..., d_k)\n",
    "    - dw: Gradient with respect to w, of shape (D, M)\n",
    "    - db: Gradient with respect to b, of shape (M,)\n",
    "    \"\"\"\n",
    "    ###########################################################################\n",
    "    # TODO: Implement the affine backward pass.                               #\n",
    "    ###########################################################################\n",
    "    # *****START OF YOUR CODE (DO NOT DELETE/MODIFY THIS LINE)*****\n",
    "    (x, w, b) = cache\n",
    "    dx = np.dot(dout, w.T).reshape(x.shape)\n",
    "    dw = np.dot((x.reshape(x.shape[0], np.prod(x.shape[1:]))).T, dout)\n",
    "    db = np.sum(dout, axis=0)\n",
    "    return dx, dw, db"
   ]
  },
  {
   "cell_type": "code",
   "execution_count": 15,
   "id": "64de3af3",
   "metadata": {
    "pycharm": {
     "name": "#%%\n"
    },
    "scrolled": true
   },
   "outputs": [
    {
     "name": "stdout",
     "output_type": "stream",
     "text": [
      "Testing affine_backward function:\n",
      "dx error:  5.399100368651805e-11\n",
      "dw error:  9.904211865398145e-11\n",
      "db error:  2.4122867568119087e-11\n"
     ]
    }
   ],
   "source": [
    "# Test the affine_backward function\n",
    "np.random.seed(231)\n",
    "x = np.random.randn(10, 2, 3)\n",
    "w = np.random.randn(6, 5)\n",
    "b = np.random.randn(5)\n",
    "dout = np.random.randn(10, 5)\n",
    "\n",
    "dx_num = eval_numerical_gradient_array(lambda x: affine_forward(x, w, b)[0], x, dout)\n",
    "dw_num = eval_numerical_gradient_array(lambda w: affine_forward(x, w, b)[0], w, dout)\n",
    "db_num = eval_numerical_gradient_array(lambda b: affine_forward(x, w, b)[0], b, dout)\n",
    "_, cache = affine_forward(x, w, b)\n",
    "dx, dw, db = affine_backward(dout, cache)\n",
    "# The error should be around e-10 or less\n",
    "print('Testing affine_backward function:')\n",
    "print('dx error: ', rel_error(dx_num, dx))\n",
    "print('dw error: ', rel_error(dw_num, dw))\n",
    "print('db error: ', rel_error(db_num, db))"
   ]
  },
  {
   "cell_type": "markdown",
   "id": "af5910d2",
   "metadata": {
    "pycharm": {
     "name": "#%% md\n"
    }
   },
   "source": [
    "# ReLU activation: forward\n",
    "Implement the forward pass for the ReLU activation function in the `relu_forward` function and test your implementation using numeric gradient checking."
   ]
  },
  {
   "cell_type": "code",
   "execution_count": 16,
   "id": "c537098f",
   "metadata": {
    "pycharm": {
     "name": "#%%\n"
    }
   },
   "outputs": [],
   "source": [
    "def relu_forward(x):\n",
    "    \"\"\"\n",
    "    Computes the forward pass for a layer of rectified linear units (ReLUs).\n",
    "\n",
    "    Input:\n",
    "    - x: Inputs, of any shape\n",
    "\n",
    "    Returns a tuple of:\n",
    "    - out: Output, of the same shape as x\n",
    "    - cache: x\n",
    "    \"\"\"\n",
    "\n",
    "    ###########################################################################\n",
    "    # TODO: Implement the ReLU forward pass.                                  #\n",
    "    ###########################################################################\n",
    "    # *****START OF YOUR CODE (DO NOT DELETE/MODIFY THIS LINE)*****\n",
    "    return np.maximum(x, 0), x"
   ]
  },
  {
   "cell_type": "code",
   "execution_count": 17,
   "id": "4cc17aa4",
   "metadata": {
    "pycharm": {
     "name": "#%%\n"
    }
   },
   "outputs": [
    {
     "name": "stdout",
     "output_type": "stream",
     "text": [
      "Testing relu_forward function:\n",
      "difference:  4.999999798022158e-08\n"
     ]
    }
   ],
   "source": [
    "# Test the relu_forward function\n",
    "\n",
    "x = np.linspace(-0.5, 0.5, num=12).reshape(3, 4)\n",
    "\n",
    "out, _ = relu_forward(x)\n",
    "correct_out = np.array([[0., 0., 0., 0., ],\n",
    "                        [0., 0., 0.04545455, 0.13636364, ],\n",
    "                        [0.22727273, 0.31818182, 0.40909091, 0.5, ]])\n",
    "\n",
    "# Compare your output with ours. The error should be on the order of e-8\n",
    "print('Testing relu_forward function:')\n",
    "print('difference: ', rel_error(out, correct_out))"
   ]
  },
  {
   "cell_type": "markdown",
   "id": "6171f37c",
   "metadata": {
    "pycharm": {
     "name": "#%% md\n"
    }
   },
   "source": [
    "# ReLU activation: backward\n",
    "Now implement the backward pass for the ReLU activation function in the `relu_backward` function."
   ]
  },
  {
   "cell_type": "code",
   "execution_count": 18,
   "id": "3187da88",
   "metadata": {
    "pycharm": {
     "name": "#%%\n"
    }
   },
   "outputs": [],
   "source": [
    "def relu_backward(dout, cache):\n",
    "    \"\"\"\n",
    "    Computes the backward pass for a layer of rectified linear units (ReLUs).\n",
    "\n",
    "    Input:\n",
    "    - dout: Upstream derivatives, of any shape\n",
    "    - cache: Input x, of same shape as dout\n",
    "\n",
    "    Returns:\n",
    "    - dx: Gradient with respect to x\n",
    "    \"\"\"\n",
    "    ###########################################################################\n",
    "    # TODO: Implement the ReLU backward pass.                                 #\n",
    "    ###########################################################################\n",
    "    # *****START OF YOUR CODE (DO NOT DELETE/MODIFY THIS LINE)*****\n",
    "    return dout * np.heaviside(cache, 1)"
   ]
  },
  {
   "cell_type": "markdown",
   "id": "88966dd6",
   "metadata": {
    "pycharm": {
     "name": "#%% md\n"
    }
   },
   "source": [
    "You can test your implementation using numeric gradient checking:"
   ]
  },
  {
   "cell_type": "code",
   "execution_count": 19,
   "id": "e81e30fd",
   "metadata": {
    "pycharm": {
     "name": "#%%\n"
    }
   },
   "outputs": [
    {
     "name": "stdout",
     "output_type": "stream",
     "text": [
      "Testing relu_backward function:\n",
      "dx error:  3.2756349136310288e-12\n"
     ]
    }
   ],
   "source": [
    "# Test the relu_backward function\n",
    "np.random.seed(231)\n",
    "x = np.random.randn(10, 10)\n",
    "dout = np.random.randn(*x.shape)\n",
    "\n",
    "dx_num = eval_numerical_gradient_array(lambda x: relu_forward(x)[0], x, dout)\n",
    "\n",
    "_, cache = relu_forward(x)\n",
    "dx = relu_backward(dout, cache)\n",
    "# The error should be on the order of e-12\n",
    "print('Testing relu_backward function:')\n",
    "print('dx error: ', rel_error(dx_num, dx))"
   ]
  },
  {
   "cell_type": "markdown",
   "id": "b0f2e4d2",
   "metadata": {
    "pycharm": {
     "name": "#%% md\n"
    }
   },
   "source": [
    "# Sigmoid activation: forward\n",
    "Implement the forward pass for the Sigmoid activation function in the `sigmoid_forward` function and test your implementation using numeric gradient checking."
   ]
  },
  {
   "cell_type": "code",
   "execution_count": 20,
   "id": "872854b0",
   "metadata": {
    "pycharm": {
     "name": "#%%\n"
    }
   },
   "outputs": [],
   "source": [
    "def sigmoid_forward(x):\n",
    "    \"\"\"\n",
    "    Computes the forward pass for a layer of Sigmoid.\n",
    "\n",
    "    Input:\n",
    "    - x: Inputs, of any shape\n",
    "\n",
    "    Returns a tuple of:\n",
    "    - out: Output, of the same shape as x\n",
    "    - cache: x\n",
    "    \"\"\"\n",
    "\n",
    "    ###########################################################################\n",
    "    # TODO: Implement the Sigmoid forward pass.                               #\n",
    "    ###########################################################################\n",
    "    # *****START OF YOUR CODE (DO NOT DELETE/MODIFY THIS LINE)*****\n",
    "    def sigmoid(x):\n",
    "        return 1 / (1 + np.exp(-x))\n",
    "\n",
    "    return sigmoid(x), x"
   ]
  },
  {
   "cell_type": "code",
   "execution_count": 21,
   "id": "1aadfec8",
   "metadata": {
    "pycharm": {
     "name": "#%%\n"
    }
   },
   "outputs": [
    {
     "name": "stdout",
     "output_type": "stream",
     "text": [
      "Testing sigmoid_forward function:\n",
      "difference:  6.383174040859927e-07\n"
     ]
    }
   ],
   "source": [
    "# Test the sigmoid_forward function\n",
    "\n",
    "x = np.linspace(-6, 6, num=12).reshape(3, 4)\n",
    "\n",
    "out, _ = sigmoid_forward(x)\n",
    "correct_out = np.array([[0.00247262, 0.00732514, 0.0214955, 0.06138311],\n",
    "                        [0.16296047, 0.36691963, 0.63308037, 0.83703953],\n",
    "                        [0.93861689, 0.9785045, 0.99267486, 0.99752738]])\n",
    "\n",
    "# Compare your output with ours. The error should be on the order of e-7\n",
    "print('Testing sigmoid_forward function:')\n",
    "print('difference: ', rel_error(out, correct_out))"
   ]
  },
  {
   "cell_type": "markdown",
   "id": "9aa4e6a8",
   "metadata": {
    "pycharm": {
     "name": "#%% md\n"
    }
   },
   "source": [
    "# Sigmoid activation: backward\n",
    "Now implement the backward pass for the Sigmoid activation function in the `sigmoid_backward` function."
   ]
  },
  {
   "cell_type": "code",
   "execution_count": 22,
   "id": "fe527984",
   "metadata": {
    "pycharm": {
     "name": "#%%\n"
    }
   },
   "outputs": [],
   "source": [
    "def sigmoid_backward(dout, cache):\n",
    "    \"\"\"\n",
    "    Computes the backward pass for a layer of Sigmoid.\n",
    "\n",
    "    Input:\n",
    "    - dout: Upstream derivatives, of any shape\n",
    "    - cache: Input x, of same shape as dout\n",
    "\n",
    "    Returns:\n",
    "    - dx: Gradient with respect to x\n",
    "    \"\"\"\n",
    "\n",
    "    ###########################################################################\n",
    "    # TODO: Implement the Sigmoid backward pass.                              #\n",
    "    ###########################################################################\n",
    "    # *****START OF YOUR CODE (DO NOT DELETE/MODIFY THIS LINE)*****\n",
    "    def f(x):\n",
    "        return np.exp(-x) / np.power((1 + np.exp(-x)), 2)\n",
    "\n",
    "    return dout * f(cache)"
   ]
  },
  {
   "cell_type": "markdown",
   "id": "b5ec2570",
   "metadata": {
    "pycharm": {
     "name": "#%% md\n"
    }
   },
   "source": [
    "You can test your implementation using numeric gradient checking:"
   ]
  },
  {
   "cell_type": "code",
   "execution_count": 23,
   "id": "e06a7eef",
   "metadata": {
    "pycharm": {
     "name": "#%%\n"
    }
   },
   "outputs": [
    {
     "name": "stdout",
     "output_type": "stream",
     "text": [
      "Testing sigmoid_backward function:\n",
      "dx error:  3.44651192693257e-11\n"
     ]
    }
   ],
   "source": [
    "# Test the sigmoid_backward function\n",
    "np.random.seed(231)\n",
    "x = np.random.randn(10, 10)\n",
    "dout = np.random.randn(*x.shape)\n",
    "\n",
    "dx_num = eval_numerical_gradient_array(lambda x: sigmoid_forward(x)[0], x, dout)\n",
    "\n",
    "_, cache = sigmoid_forward(x)\n",
    "dx = sigmoid_backward(dout, cache)\n",
    "\n",
    "# The error should be on the order of e-11\n",
    "print('Testing sigmoid_backward function:')\n",
    "print('dx error: ', rel_error(dx_num, dx))"
   ]
  },
  {
   "cell_type": "markdown",
   "id": "1eb8d7a7",
   "metadata": {
    "pycharm": {
     "name": "#%% md\n"
    }
   },
   "source": [
    "# \"Sandwich\" layers\n",
    "There are some common patterns of layers that are frequently used in neural nets. For example, affine layers are frequently followed by a ReLU nonlinearity. Implement the forward and backward pass for the affine layer followed by a ReLU nonlinearity in the `affine_relu_forward` and `affine_relu_backward` functions. "
   ]
  },
  {
   "cell_type": "code",
   "execution_count": 24,
   "id": "7283bd3d",
   "metadata": {
    "pycharm": {
     "name": "#%%\n"
    }
   },
   "outputs": [],
   "source": [
    "def affine_relu_forward(x, w, b):\n",
    "    \"\"\"\n",
    "    Convenience layer that performs an affine transform followed by a ReLU\n",
    "\n",
    "    Inputs:\n",
    "    - x: Input to the affine layer\n",
    "    - w, b: Weights for the affine layer\n",
    "\n",
    "    Returns a tuple of:\n",
    "    - out: Output from the ReLU\n",
    "    - cache: Object to give to the backward pass\n",
    "    \"\"\"\n",
    "    ###########################################################################\n",
    "    # TODO: Implement the affine-RELU forward pass.                           #\n",
    "    ###########################################################################\n",
    "    # *****START OF YOUR CODE (DO NOT DELETE/MODIFY THIS LINE)*****\n",
    "    fc_out, fc_cache = affine_forward(x, w, b)\n",
    "    relu_out, relu_cache = relu_forward(fc_out)\n",
    "    return relu_out, (fc_cache, relu_cache)"
   ]
  },
  {
   "cell_type": "code",
   "execution_count": 25,
   "id": "00e27852",
   "metadata": {
    "pycharm": {
     "name": "#%%\n"
    }
   },
   "outputs": [],
   "source": [
    "def affine_relu_backward(dout, cache):\n",
    "    \"\"\"\n",
    "    Backward pass for the affine-relu convenience layer\n",
    "    \n",
    "    Inputs:\n",
    "    - dout: Upstream derivatives, of any shape\n",
    "    - cache: (fc_cache, relu_cache)\n",
    "      \n",
    "    Returns a tuple of:\n",
    "    - dx: Gradient with respect to x\n",
    "    - dw: Gradient with respect to w\n",
    "    - db: Gradient with respect to b\n",
    "    \"\"\"\n",
    "    ###########################################################################\n",
    "    # TODO: Implement the affine-RELU backward pass.                          #\n",
    "    ###########################################################################\n",
    "    # *****START OF YOUR CODE (DO NOT DELETE/MODIFY THIS LINE)*****\n",
    "    relu_out = relu_backward(dout, cache[1])\n",
    "    return affine_backward(relu_out, cache[0])"
   ]
  },
  {
   "cell_type": "markdown",
   "id": "ccdd0b18",
   "metadata": {
    "pycharm": {
     "name": "#%% md\n"
    }
   },
   "source": [
    "You can test your implementation using numeric gradient checking:"
   ]
  },
  {
   "cell_type": "code",
   "execution_count": 26,
   "id": "d53fb1c9",
   "metadata": {
    "pycharm": {
     "name": "#%%\n"
    }
   },
   "outputs": [
    {
     "name": "stdout",
     "output_type": "stream",
     "text": [
      "Testing affine_relu_forward and affine_relu_backward:\n",
      "dx error:  2.299579177309368e-11\n",
      "dw error:  8.162011105764925e-11\n",
      "db error:  7.826724021458994e-12\n"
     ]
    }
   ],
   "source": [
    "# Test the affine_relu_backward function\n",
    "\n",
    "np.random.seed(231)\n",
    "x = np.random.randn(2, 3, 4)\n",
    "w = np.random.randn(12, 10)\n",
    "b = np.random.randn(10)\n",
    "dout = np.random.randn(2, 10)\n",
    "\n",
    "out, cache = affine_relu_forward(x, w, b)\n",
    "dx, dw, db = affine_relu_backward(dout, cache)\n",
    "\n",
    "dx_num = eval_numerical_gradient_array(lambda x: affine_relu_forward(x, w, b)[0], x, dout)\n",
    "dw_num = eval_numerical_gradient_array(lambda w: affine_relu_forward(x, w, b)[0], w, dout)\n",
    "db_num = eval_numerical_gradient_array(lambda b: affine_relu_forward(x, w, b)[0], b, dout)\n",
    "\n",
    "# Relative error should be around e-10 or less\n",
    "print('Testing affine_relu_forward and affine_relu_backward:')\n",
    "print('dx error: ', rel_error(dx_num, dx))\n",
    "print('dw error: ', rel_error(dw_num, dw))\n",
    "print('db error: ', rel_error(db_num, db))"
   ]
  },
  {
   "cell_type": "markdown",
   "id": "0bd6b07f",
   "metadata": {
    "pycharm": {
     "name": "#%% md\n"
    }
   },
   "source": [
    "# Batch Normalization: Forward Pass\n",
    "Implement the batch normalization forward pass in the function `batchnorm_forward`."
   ]
  },
  {
   "cell_type": "code",
   "execution_count": 27,
   "id": "7ae14e5d",
   "metadata": {
    "pycharm": {
     "name": "#%%\n"
    }
   },
   "outputs": [],
   "source": [
    "def batchnorm_forward(x, gamma, beta, bn_param):\n",
    "    \"\"\"Forward pass for batch normalization.\n",
    "\n",
    "    During training the sample mean and (uncorrected) sample variance are\n",
    "    computed from minibatch statistics and used to normalize the incoming data.\n",
    "    During training we also keep an exponentially decaying running mean of the\n",
    "    mean and variance of each feature, and these averages are used to normalize\n",
    "    data at test-time.\n",
    "\n",
    "    At each timestep we update the running averages for mean and variance using\n",
    "    an exponential decay based on the momentum parameter:\n",
    "\n",
    "    running_mean = momentum * running_mean + (1 - momentum) * sample_mean\n",
    "    running_var = momentum * running_var + (1 - momentum) * sample_var\n",
    "\n",
    "    Input:\n",
    "    - x: Data of shape (N, D)\n",
    "    - gamma: Scale parameter of shape (D,)\n",
    "    - beta: Shift paremeter of shape (D,)\n",
    "    - bn_param: Dictionary with the following keys:\n",
    "      - mode: 'train' or 'test'; required\n",
    "      - eps: Constant for numeric stability\n",
    "      - momentum: Constant for running mean / variance.\n",
    "      - running_mean: Array of shape (D,) giving running mean of features\n",
    "      - running_var Array of shape (D,) giving running variance of features\n",
    "\n",
    "    Returns a tuple of:\n",
    "    - out: of shape (N, D)\n",
    "    - cache: A tuple of values needed in the backward pass\n",
    "    \"\"\"\n",
    "    mode = bn_param[\"mode\"]\n",
    "    eps = bn_param.get(\"eps\", 1e-5)\n",
    "    momentum = bn_param.get(\"momentum\", 0.9)\n",
    "\n",
    "    N, D = x.shape\n",
    "    running_mean = bn_param.get(\"running_mean\", np.zeros(D, dtype=x.dtype))\n",
    "    running_var = bn_param.get(\"running_var\", np.zeros(D, dtype=x.dtype))\n",
    "\n",
    "    out, cache = None, None\n",
    "    if mode == \"train\":\n",
    "        #######################################################################\n",
    "        # TODO: Implement the training-time forward pass for batch norm.      #\n",
    "        # Use minibatch statistics to compute the mean and variance, use      #\n",
    "        # these statistics to normalize the incoming data, and scale and      #\n",
    "        # shift the normalized data using gamma and beta.                     #\n",
    "        #                                                                     #\n",
    "        # You should store the output in the variable out. Any intermediates  #\n",
    "        # that you need for the backward pass should be stored in the cache   #\n",
    "        # variable.                                                           #\n",
    "        #                                                                     #\n",
    "        # You should also use your computed sample mean and variance together #\n",
    "        # with the momentum variable to update the running mean and running   #\n",
    "        # variance, storing your result in the running_mean and running_var   #\n",
    "        # variables.                                                          #\n",
    "        #                                                                     #\n",
    "        # Note that though you should be keeping track of the running         #\n",
    "        # variance, you should normalize the data based on the standard       #\n",
    "        # deviation (square root of variance) instead!                        #\n",
    "        #######################################################################\n",
    "        # *****START OF YOUR CODE (DO NOT DELETE/MODIFY THIS LINE)*****\n",
    "        sample_mean = x.mean(axis=0)\n",
    "        sample_var = x.var(axis=0)\n",
    "        running_mean = momentum * running_mean + (1 - momentum) * sample_mean\n",
    "        running_var = momentum * running_var + (1 - momentum) * sample_var\n",
    "        out = gamma * (x - sample_mean) / np.sqrt(sample_var + eps) + beta\n",
    "        cache = (gamma, beta, eps, sample_mean, sample_var, x)\n",
    "        # *****END OF YOUR CODE (DO NOT DELETE/MODIFY THIS LINE)*****\n",
    "        #######################################################################\n",
    "        #                           END OF YOUR CODE                          #\n",
    "        #######################################################################\n",
    "    elif mode == \"test\":\n",
    "        #######################################################################\n",
    "        # TODO: Implement the test-time forward pass for batch normalization. #\n",
    "        # Use the running mean and variance to normalize the incoming data,   #\n",
    "        # then scale and shift the normalized data using gamma and beta.      #\n",
    "        # Store the result in the out variable.                               #\n",
    "        #######################################################################\n",
    "        # *****START OF YOUR CODE (DO NOT DELETE/MODIFY THIS LINE)*****\n",
    "\n",
    "        out = gamma * (x - running_mean) / np.sqrt(running_var + eps) + beta\n",
    "        cache = (gamma, beta, eps, running_mean, running_var, x)\n",
    "        # *****END OF YOUR CODE (DO NOT DELETE/MODIFY THIS LINE)*****\n",
    "        #######################################################################\n",
    "        #                          END OF YOUR CODE                           #\n",
    "        #######################################################################\n",
    "    else:\n",
    "        raise ValueError('Invalid forward batchnorm mode \"%s\"' % mode)\n",
    "\n",
    "    # Store the updated running means back into bn_param\n",
    "    bn_param[\"running_mean\"] = running_mean\n",
    "    bn_param[\"running_var\"] = running_var\n",
    "\n",
    "    return out, cache"
   ]
  },
  {
   "cell_type": "markdown",
   "id": "54b94ccd",
   "metadata": {
    "pycharm": {
     "name": "#%% md\n"
    }
   },
   "source": [
    "Run the following to test your implementation."
   ]
  },
  {
   "cell_type": "code",
   "execution_count": 28,
   "id": "71831d47",
   "metadata": {
    "pycharm": {
     "name": "#%%\n"
    }
   },
   "outputs": [
    {
     "name": "stdout",
     "output_type": "stream",
     "text": [
      "Before batch normalization:\n",
      "  means: [ -2.3814598  -13.18038246   1.91780462]\n",
      "  stds:  [27.18502186 34.21455511 37.68611762]\n",
      "\n",
      "After batch normalization (gamma=1, beta=0)\n",
      "  means: [4.66293670e-17 5.27355937e-17 9.57567359e-18]\n",
      "  stds:  [0.99999999 1.         1.        ]\n",
      "\n",
      "After batch normalization (gamma= [1. 2. 3.] , beta= [11. 12. 13.] )\n",
      "  means: [11. 12. 13.]\n",
      "  stds:  [0.99999999 1.99999999 2.99999999]\n",
      "\n"
     ]
    }
   ],
   "source": [
    "# Check the training-time forward pass by checking means and variances\n",
    "# of features both before and after batch normalization   \n",
    "\n",
    "# Simulate the forward pass for a two-layer network.\n",
    "np.random.seed(231)\n",
    "N, D1, D2, D3 = 200, 50, 60, 3\n",
    "X = np.random.randn(N, D1)\n",
    "W1 = np.random.randn(D1, D2)\n",
    "W2 = np.random.randn(D2, D3)\n",
    "a = np.maximum(0, X.dot(W1)).dot(W2)\n",
    "\n",
    "print('Before batch normalization:')\n",
    "print_mean_std(a, axis=0)\n",
    "\n",
    "gamma = np.ones((D3,))\n",
    "beta = np.zeros((D3,))\n",
    "\n",
    "# Means should be close to zero and stds close to one.\n",
    "print('After batch normalization (gamma=1, beta=0)')\n",
    "a_norm, _ = batchnorm_forward(a, gamma, beta, {'mode': 'train'})\n",
    "print_mean_std(a_norm, axis=0)\n",
    "\n",
    "gamma = np.asarray([1.0, 2.0, 3.0])\n",
    "beta = np.asarray([11.0, 12.0, 13.0])\n",
    "\n",
    "# Now means should be close to beta and stds close to gamma.\n",
    "print('After batch normalization (gamma=', gamma, ', beta=', beta, ')')\n",
    "a_norm, _ = batchnorm_forward(a, gamma, beta, {'mode': 'train'})\n",
    "print_mean_std(a_norm, axis=0)"
   ]
  },
  {
   "cell_type": "code",
   "execution_count": 29,
   "id": "d89dca02",
   "metadata": {
    "pycharm": {
     "name": "#%%\n"
    }
   },
   "outputs": [
    {
     "name": "stdout",
     "output_type": "stream",
     "text": [
      "After batch normalization (test-time):\n",
      "  means: [-0.03927354 -0.04349152 -0.10452688]\n",
      "  stds:  [1.01531428 1.01238373 0.97819988]\n",
      "\n"
     ]
    }
   ],
   "source": [
    "# Check the test-time forward pass by running the training-time\n",
    "# forward pass many times to warm up the running averages, and then\n",
    "# checking the means and variances of activations after a test-time\n",
    "# forward pass.\n",
    "\n",
    "np.random.seed(231)\n",
    "N, D1, D2, D3 = 200, 50, 60, 3\n",
    "W1 = np.random.randn(D1, D2)\n",
    "W2 = np.random.randn(D2, D3)\n",
    "\n",
    "bn_param = {'mode': 'train'}\n",
    "gamma = np.ones(D3)\n",
    "beta = np.zeros(D3)\n",
    "\n",
    "for t in range(50):\n",
    "    X = np.random.randn(N, D1)\n",
    "    a = np.maximum(0, X.dot(W1)).dot(W2)\n",
    "    batchnorm_forward(a, gamma, beta, bn_param)\n",
    "\n",
    "bn_param['mode'] = 'test'\n",
    "X = np.random.randn(N, D1)\n",
    "a = np.maximum(0, X.dot(W1)).dot(W2)\n",
    "a_norm, _ = batchnorm_forward(a, gamma, beta, bn_param)\n",
    "\n",
    "# Means should be close to zero and stds close to one, but will be\n",
    "# noisier than training-time forward passes.\n",
    "print('After batch normalization (test-time):')\n",
    "print_mean_std(a_norm, axis=0)"
   ]
  },
  {
   "cell_type": "markdown",
   "id": "07719acb",
   "metadata": {
    "pycharm": {
     "name": "#%% md\n"
    }
   },
   "source": [
    "# Batch Normalization: Backward Pass\n",
    "Now implement the backward pass for batch normalization in the function `batchnorm_backward`.\n",
    "\n",
    "In the forward pass, given a set of inputs $X=\\begin{bmatrix}x_1\\\\x_2\\\\...\\\\x_N\\end{bmatrix}$, \n",
    "\n",
    "we first calculate the mean $\\mu$ and variance $var$.\n",
    "With $\\mu$ and $var$ calculated, we can calculate the standard deviation $\\sigma$  and normalized data $Y$.\n",
    "The equations and graph illustration below describe the computation ($y_i$ is the i-th element of the vector $Y$).\n",
    "\n",
    "\\begin{align}\n",
    "& \\mu=\\frac{1}{N}\\sum_{k=1}^N x_k  &  var=\\frac{1}{N}\\sum_{k=1}^N (x_k-\\mu)^2 \\\\\n",
    "& \\sigma=\\sqrt{v+\\epsilon}         &  y_i=\\frac{x_i-\\mu}{\\sigma}\n",
    "\\end{align}"
   ]
  },
  {
   "cell_type": "markdown",
   "id": "06afd7ac",
   "metadata": {
    "pycharm": {
     "name": "#%% md\n"
    }
   },
   "source": [
    "<img src=\"imgs/batchnorm_graph.png\">"
   ]
  },
  {
   "cell_type": "markdown",
   "id": "462af44e",
   "metadata": {
    "pycharm": {
     "name": "#%% md\n"
    }
   },
   "source": [
    "You should make sure each of the intermediary gradient derivations are all as simplified as possible, for ease of implementation."
   ]
  },
  {
   "cell_type": "code",
   "execution_count": 30,
   "id": "07b2bf8c",
   "metadata": {
    "pycharm": {
     "name": "#%%\n"
    }
   },
   "outputs": [],
   "source": [
    "def batchnorm_backward(dout, cache):\n",
    "    \"\"\"Backward pass for batch normalization.\n",
    "\n",
    "    For this implementation, you should write out a computation graph for\n",
    "    batch normalization on paper and propagate gradients backward through\n",
    "    intermediate nodes.\n",
    "\n",
    "    Inputs:\n",
    "    - dout: Upstream derivatives, of shape (N, D)\n",
    "    - cache: Variable of intermediates from batchnorm_forward.\n",
    "\n",
    "    Returns a tuple of:\n",
    "    - dx: Gradient with respect to inputs x, of shape (N, D)\n",
    "    - dgamma: Gradient with respect to scale parameter gamma, of shape (D,)\n",
    "    - dbeta: Gradient with respect to shift parameter beta, of shape (D,)\n",
    "    \"\"\"\n",
    "    ###########################################################################\n",
    "    # TODO: Implement the backward pass for batch normalization. Store the    #\n",
    "    # results in the dx, dgamma, and dbeta variables.                         #\n",
    "    ###########################################################################\n",
    "    # *****START OF YOUR CODE (DO NOT DELETE/MODIFY THIS LINE)*****\n",
    "\n",
    "    (gamma, beta, eps, mean, var, x) = cache\n",
    "    x_n = (x - mean) / np.sqrt(var + eps)\n",
    "    dbeta = np.sum(dout, axis=0)\n",
    "    dgamma = np.sum(dout * x_n, axis=0)\n",
    "    N = dout.shape[0]\n",
    "    dx = (N * dout * gamma - np.sum(gamma * dout, axis=0) - x_n * np.sum(gamma * dout * x_n, axis=0)) / (\n",
    "            N * np.sqrt(var + eps))\n",
    "\n",
    "    return dx, dgamma, dbeta"
   ]
  },
  {
   "cell_type": "markdown",
   "id": "d6891d0a",
   "metadata": {
    "pycharm": {
     "name": "#%% md\n"
    }
   },
   "source": [
    "Run the following to numerically check your backward pass."
   ]
  },
  {
   "cell_type": "code",
   "execution_count": 31,
   "id": "e615e6b0",
   "metadata": {
    "pycharm": {
     "name": "#%%\n"
    }
   },
   "outputs": [
    {
     "name": "stdout",
     "output_type": "stream",
     "text": [
      "dx error:  1.6674589968239005e-09\n",
      "dgamma error:  1.1051873158199614e-12\n",
      "dbeta error:  2.8795057655839487e-12\n"
     ]
    }
   ],
   "source": [
    "# Gradient check batchnorm backward pass.\n",
    "np.random.seed(231)\n",
    "N, D = 4, 5\n",
    "x = 5 * np.random.randn(N, D) + 12\n",
    "gamma = np.random.randn(D)\n",
    "beta = np.random.randn(D)\n",
    "dout = np.random.randn(N, D)\n",
    "\n",
    "bn_param = {'mode': 'train'}\n",
    "fx = lambda x: batchnorm_forward(x, gamma, beta, bn_param)[0]\n",
    "fg = lambda a: batchnorm_forward(x, a, beta, bn_param)[0]\n",
    "fb = lambda b: batchnorm_forward(x, gamma, b, bn_param)[0]\n",
    "\n",
    "dx_num = eval_numerical_gradient_array(fx, x, dout)\n",
    "da_num = eval_numerical_gradient_array(fg, gamma.copy(), dout)\n",
    "db_num = eval_numerical_gradient_array(fb, beta.copy(), dout)\n",
    "\n",
    "_, cache = batchnorm_forward(x, gamma, beta, bn_param)\n",
    "dx, dgamma, dbeta = batchnorm_backward(dout, cache)\n",
    "# You should expect to see relative errors between 1e-13 and 1e-8.\n",
    "print('dx error: ', rel_error(dx_num, dx))\n",
    "print('dgamma error: ', rel_error(da_num, dgamma))\n",
    "print('dbeta error: ', rel_error(db_num, dbeta))"
   ]
  },
  {
   "cell_type": "markdown",
   "id": "a9227f7e",
   "metadata": {
    "pycharm": {
     "name": "#%% md\n"
    }
   },
   "source": [
    "# Loss layer: Softmax\n",
    "Now implement the loss and gradient for softmax in the `softmax_loss` function."
   ]
  },
  {
   "cell_type": "code",
   "execution_count": 58,
   "metadata": {
    "collapsed": false,
    "pycharm": {
     "name": "#%%\n"
    }
   },
   "outputs": [],
   "source": [
    "def softmax_loss(x, y):\n",
    "    \"\"\"\n",
    "    Computes the loss and gradient for softmax classification.\n",
    "\n",
    "    Inputs:\n",
    "    - x: Input data, of shape (N, C) where x[i, j] is the score for the jth\n",
    "      class for the ith input.\n",
    "    - y: Vector of labels, of shape (N,) where y[i] is the label for x[i] and\n",
    "      0 <= y[i] < C\n",
    "\n",
    "    Returns a tuple of:\n",
    "    - loss: Scalar giving the loss\n",
    "    - dx: Gradient of the loss with respect to x\n",
    "    \"\"\"\n",
    "    ###########################################################################\n",
    "    # TODO: Implement the softmax_loss function.                              #\n",
    "    ###########################################################################\n",
    "    # *****START OF YOUR CODE (DO NOT DELETE/MODIFY THIS LINE)*****\n",
    "    y = y.astype(np.int)\n",
    "    N, C = x.shape\n",
    "    x_e = np.exp(x)\n",
    "    scores = np.exp(x[np.arange(N), y]) / np.sum(x_e, axis=1, keepdims=True)\n",
    "    loss = np.mean(-np.log(scores))\n",
    "    d = np.zeros_like(x)\n",
    "    d[np.arange(N), y] = 1\n",
    "    dx = ((x_e.T / np.sum(x_e, axis=1)).T - d) / N\n",
    "    return loss, dx"
   ]
  },
  {
   "cell_type": "markdown",
   "metadata": {
    "collapsed": false,
    "pycharm": {
     "name": "#%% md\n"
    }
   },
   "source": [
    "You can make sure that the implementations are correct by running the following:"
   ]
  },
  {
   "cell_type": "code",
   "execution_count": 55,
   "id": "ca558e12",
   "metadata": {
    "pycharm": {
     "name": "#%%\n"
    }
   },
   "outputs": [
    {
     "name": "stdout",
     "output_type": "stream",
     "text": [
      "\n",
      "Testing softmax_loss:\n",
      "loss:  2.302545844500738\n",
      "dx error:  9.944545482435094e-09\n"
     ]
    }
   ],
   "source": [
    "np.random.seed(231)\n",
    "num_classes, num_inputs = 10, 50\n",
    "x = 0.001 * np.random.randn(num_inputs, num_classes)\n",
    "y = np.random.randint(num_classes, size=num_inputs)\n",
    "\n",
    "dx_num = eval_numerical_gradient(lambda x: softmax_loss(x, y)[0], x, verbose=False)\n",
    "loss, dx = softmax_loss(x, y)\n",
    "# Test softmax_loss function. Loss should be close to 2.3 and dx error should be around e-8\n",
    "print('\\nTesting softmax_loss:')\n",
    "print('loss: ', loss)\n",
    "print('dx error: ', rel_error(dx_num, dx))"
   ]
  },
  {
   "cell_type": "markdown",
   "id": "31d4492a",
   "metadata": {
    "pycharm": {
     "name": "#%% md\n"
    }
   },
   "source": [
    "# Loss layer: MSE\n",
    "Now implement the loss and gradient for mean squared error in the `mse_loss` function."
   ]
  },
  {
   "cell_type": "code",
   "execution_count": 117,
   "id": "92f5cdd9",
   "metadata": {
    "pycharm": {
     "name": "#%%\n"
    }
   },
   "outputs": [],
   "source": [
    "def mse_loss(x, y):\n",
    "    \"\"\"\n",
    "    Computes the loss and gradient for MSE loss.\n",
    "\n",
    "    Inputs:\n",
    "    - x: Input data, of shape (N,) where x[i] is the predicted vector for \n",
    "        the ith input.\n",
    "    - y: Vector of target values, of shape (N,) where y[i] is the target value\n",
    "        for the ith input.\n",
    "\n",
    "    Returns a tuple of:\n",
    "    - loss: Scalar giving the loss\n",
    "    - dx: Gradient of the loss with respect to x\n",
    "    \"\"\"\n",
    "    ###########################################################################\n",
    "    # TODO: Implement the mse_loss function.                                  #\n",
    "    ###########################################################################\n",
    "    # *****START OF YOUR CODE (DO NOT DELETE/MODIFY THIS LINE)*****\n",
    "    loss = np.sum(np.power((x - y), 2)) / x.shape[0]\n",
    "    dx = 2 * (x - y) / x.shape[0]\n",
    "    return loss, dx"
   ]
  },
  {
   "cell_type": "markdown",
   "id": "55b5b9db",
   "metadata": {
    "pycharm": {
     "name": "#%% md\n"
    }
   },
   "source": [
    "You can make sure that the implementations are correct by running the following:"
   ]
  },
  {
   "cell_type": "code",
   "execution_count": 118,
   "id": "0e850132",
   "metadata": {
    "pycharm": {
     "name": "#%%\n"
    }
   },
   "outputs": [
    {
     "name": "stdout",
     "output_type": "stream",
     "text": [
      "\n",
      "Testing mse_loss:\n",
      "loss:  1.8672282748726519\n",
      "dx error:  2.8607953262121067e-09\n"
     ]
    }
   ],
   "source": [
    "np.random.seed(231)\n",
    "num_inputs = 50\n",
    "x = np.random.randn(num_inputs)\n",
    "y = np.random.randn(num_inputs)\n",
    "\n",
    "dx_num = eval_numerical_gradient(lambda x: mse_loss(x, y)[0], x, verbose=False)\n",
    "loss, dx = mse_loss(x, y)\n",
    "\n",
    "# Test mse_loss function. Loss should be close to 1.9 and dx error should be around e-9\n",
    "print('\\nTesting mse_loss:')\n",
    "print('loss: ', loss)\n",
    "print('dx error: ', rel_error(dx_num, dx))"
   ]
  },
  {
   "cell_type": "markdown",
   "id": "71a7bb75",
   "metadata": {
    "pycharm": {
     "name": "#%% md\n"
    }
   },
   "source": [
    "# Multi-Layer Fully Connected Network\n",
    "In this part, you will implement a fully connected network with an arbitrary number of hidden layers."
   ]
  },
  {
   "cell_type": "code",
   "execution_count": 104,
   "id": "ffd460d2",
   "metadata": {
    "pycharm": {
     "name": "#%%\n"
    }
   },
   "outputs": [],
   "source": [
    "class FullyConnectedNet(object):\n",
    "    \"\"\"Class for a multi-layer fully connected neural network.\n",
    "\n",
    "    Network contains an arbitrary number of hidden layers, ReLU nonlinearities,\n",
    "    and a softmax loss function for a classification problem or the MSE loss function for \n",
    "    a regression problem. This will also implement batch normalization as an option. \n",
    "    For a network with L layers, the architecture will be\n",
    "\n",
    "    {affine - [batchnorm] - relu} x (L - 1) - affine - softmax/mse\n",
    "\n",
    "    where batch normalization is optional in each layer and the {...} block is\n",
    "    repeated L - 1 times.\n",
    "\n",
    "    Learnable parameters are stored in the self.params dictionary and will be learned\n",
    "    using the Solver class.\n",
    "    \"\"\"\n",
    "\n",
    "    def __init__(\n",
    "            self,\n",
    "            category,\n",
    "            hidden_dims,\n",
    "            normalization,\n",
    "            input_dim=784,\n",
    "            output_dim=10,\n",
    "            reg=0.0,\n",
    "            weight_scale=1e-2,\n",
    "            dtype=np.float32,\n",
    "    ):\n",
    "        \"\"\"Initialize a new FullyConnectedNet.\n",
    "\n",
    "        Inputs:\n",
    "        - category: The type of the problem. Valid values are \"classification\",\n",
    "            \"regression\".\n",
    "        - hidden_dims: A list of integers giving the size of each hidden layer.\n",
    "        - normalization: A list of booleans which shows that we have batch \n",
    "            normalization after the affine layer.\n",
    "        - input_dim: An integer giving the size of the input.\n",
    "        - output_dim: An integer giving the number of classes to classify. It\n",
    "            is 1 for a regression problem.\n",
    "        - reg: Scalar giving L2 regularization strength.\n",
    "        - weight_scale: Scalar giving the standard deviation for random\n",
    "            initialization of the weights.\n",
    "        - dtype: A numpy datatype object; all computations will be performed using\n",
    "            this datatype. float32 is faster but less accurate, so you should use\n",
    "            float64 for numeric gradient checking.\n",
    "        \"\"\"\n",
    "        self.category = category\n",
    "        self.normalization = normalization\n",
    "        self.reg = reg\n",
    "        self.num_layers = 1 + len(hidden_dims)\n",
    "        self.dtype = dtype\n",
    "        self.params = {}\n",
    "\n",
    "        ############################################################################\n",
    "        # TODO: Initialize the parameters of the network, storing all values in    #\n",
    "        # the self.params dictionary. Store weights and biases for the first layer #\n",
    "        # in W1 and b1; for the second layer use W2 and b2, etc. Weights should be #\n",
    "        # initialized from a normal distribution centered at 0 with standard       #\n",
    "        # deviation equal to weight_scale. Biases should be initialized to zero.   #\n",
    "        #                                                                          #\n",
    "        # When using batch normalization, store scale and shift parameters for the #\n",
    "        # first layer in gamma1 and beta1; for the second layer use gamma2 and     #\n",
    "        # beta2, etc. Scale parameters should be initialized to ones and shift     #\n",
    "        # parameters should be initialized to zeros.                               #\n",
    "        ############################################################################\n",
    "        # *****START OF YOUR CODE (DO NOT DELETE/MODIFY THIS LINE)*****\n",
    "        dims = [input_dim] + hidden_dims + [output_dim]\n",
    "        norms = self.normalization + [False]\n",
    "        for i in range(self.num_layers):\n",
    "            self.params[f\"W{i + 1}\"] = np.random.normal(0, weight_scale, size=(dims[i], dims[i + 1]))\n",
    "            self.params[f\"b{i + 1}\"] = np.zeros(dims[i + 1])\n",
    "            if norms[i]:\n",
    "                self.params[f\"gamma{i + 1}\"] = np.ones(dims[i + 1])\n",
    "                self.params[f\"beta{i + 1}\"] = np.zeros(dims[i + 1])\n",
    "        # *****END OF YOUR CODE (DO NOT DELETE/MODIFY THIS LINE)*****\n",
    "        ############################################################################\n",
    "        #                             END OF YOUR CODE                             #\n",
    "        ############################################################################\n",
    "\n",
    "        # With batch normalization we need to keep track of running means and\n",
    "        # variances, so we need to pass a special bn_param object to each batch\n",
    "        # normalization layer. You should pass self.bn_params[0] to the forward pass\n",
    "        # of the first batch normalization layer, self.bn_params[1] to the forward\n",
    "        # pass of the second batch normalization layer, etc.\n",
    "        self.bn_params = [{\"mode\": \"train\"} for i in range(self.num_layers - 1)]\n",
    "\n",
    "        # Cast all parameters to the correct datatype.\n",
    "        for k, v in self.params.items():\n",
    "            self.params[k] = v.astype(dtype)\n",
    "\n",
    "    def loss(self, X, y=None):\n",
    "        \"\"\"Compute loss and gradient for the fully connected net.\n",
    "        \n",
    "        Inputs:\n",
    "        - X: Array of input data of shape (N, d_1, ..., d_k)\n",
    "        - y: Array of labels / target values, of shape (N,). y[i] gives the \n",
    "            label / target value for X[i].\n",
    "\n",
    "        Returns:\n",
    "        If y is None, then run a test-time forward pass of the model and return\n",
    "        scores for a classification problem or the predicted_values for \n",
    "        a regression problem:\n",
    "        - out: Array of shape (N, C) / (N, ) giving classification scores / predicted values, where \n",
    "        scores[i, c] is the classification score for X[i] and class c / predicted_values[i]\n",
    "        is the predicted value for X[i].\n",
    "            \n",
    "\n",
    "        If y is not None, then run a training-time forward and backward pass and\n",
    "        return a tuple of:\n",
    "        - loss: Scalar value giving the loss\n",
    "        - grads: Dictionary with the same keys as self.params, mapping parameter\n",
    "            names to gradients of the loss with respect to those parameters.\n",
    "        \"\"\"\n",
    "        X = X.astype(self.dtype)\n",
    "        mode = \"test\" if y is None else \"train\"\n",
    "\n",
    "        # Set train/test mode for batchnorm params since they\n",
    "        # behave differently during training and testing.\n",
    "        for bn_param in self.bn_params:\n",
    "            bn_param[\"mode\"] = mode\n",
    "        ############################################################################\n",
    "        # TODO: Implement the forward pass for the fully connected net, computing  #\n",
    "        # the class scores / target values for X and storing them in the out       #\n",
    "        #  variable.                                                               #\n",
    "        #                                                                          #\n",
    "        # When using batch normalization, you'll need to pass self.bn_params[0] to #\n",
    "        # the forward pass for the first batch normalization layer, pass           #\n",
    "        # self.bn_params[1] to the forward pass for the second batch normalization #\n",
    "        # layer, etc.                                                              #\n",
    "        ############################################################################\n",
    "        # *****START OF YOUR CODE (DO NOT DELETE/MODIFY THIS LINE)*****\n",
    "        Y = X\n",
    "        cache = {}\n",
    "        for i in range(self.num_layers - 1):\n",
    "            Y, cache[f\"affine{i + 1}\"] = affine_forward(Y, self.params[f\"W{i + 1}\"], self.params[f\"b{i + 1}\"])\n",
    "            if self.normalization[i]:\n",
    "                Y, cache[f\"norm{i + 1}\"] = batchnorm_forward(Y, self.params[f\"gamma{i + 1}\"],\n",
    "                                                             self.params[f\"beta{i + 1}\"],\n",
    "                                                             self.bn_params[i])\n",
    "            Y, cache[f\"relu{i + 1}\"] = relu_forward(Y)\n",
    "        Y, cache[f\"affine{self.num_layers}\"] = affine_forward(Y, self.params[f\"W{self.num_layers}\"],\n",
    "                                                              self.params[f\"b{self.num_layers}\"])\n",
    "        out = Y\n",
    "        # *****END OF YOUR CODE (DO NOT DELETE/MODIFY THIS LINE)*****\n",
    "        ############################################################################\n",
    "        #                             END OF YOUR CODE                             #\n",
    "        ############################################################################\n",
    "\n",
    "        # If test mode return early.\n",
    "        if mode == \"test\":\n",
    "            return out\n",
    "\n",
    "        loss, grads = 0.0, {}\n",
    "        ############################################################################\n",
    "        # TODO: Implement the backward pass for the fully connected net. Store the #\n",
    "        # loss in the loss variable and gradients in the grads dictionary. Compute #\n",
    "        # data loss using softmax/mse, and make sure that grads[k] holds the       #\n",
    "        # gradients for self.params[k]. Don't forget to add L2 regularization!     #\n",
    "        #                                                                          #\n",
    "        # When using batch normalization, you don't need to regularize the scale   #\n",
    "        # and shift parameters.                                                    #\n",
    "        #                                                                          #\n",
    "        # NOTE: To ensure that your implementation matches ours and you pass the   #\n",
    "        # automated tests, make sure that your L2 regularization includes a factor #\n",
    "        # of 0.5 to simplify the expression for the gradient.                      #\n",
    "        ############################################################################\n",
    "        # *****START OF YOUR CODE (DO NOT DELETE/MODIFY THIS LINE)*****\n",
    "        l2 = 0\n",
    "        for i in range(self.num_layers):\n",
    "            l2 += np.sum(self.params[f\"W{i + 1}\"] ** 2)\n",
    "        l2 *= self.reg * 0.5\n",
    "        loss, dx = mse_loss(Y[:, 0], y) if self.category == \"regression\" else softmax_loss(Y, y)\n",
    "        loss += l2\n",
    "        if self.category == \"regression\":\n",
    "            dx = dx.reshape(dx.shape[0], 1)\n",
    "        dx, grads[f\"W{self.num_layers}\"], grads[f\"b{self.num_layers}\"] = affine_backward(dx, cache[\n",
    "            f\"affine{self.num_layers}\"])\n",
    "        grads[f\"W{self.num_layers}\"] += self.params[f\"W{self.num_layers}\"] * self.reg\n",
    "        for i in range(self.num_layers - 2, -1, -1):\n",
    "            dx = relu_backward(dx, cache[f\"relu{i + 1}\"])\n",
    "            if self.normalization[i]:\n",
    "                dx, grads[f\"gamma{i + 1}\"], grads[f\"beta{i + 1}\"] = batchnorm_backward(dx, cache[f\"norm{i + 1}\"])\n",
    "            dx, grads[f\"W{i + 1}\"], grads[f\"b{i + 1}\"] = affine_backward(dx, cache[f\"affine{i + 1}\"])\n",
    "            grads[f\"W{i + 1}\"] += self.params[f\"W{i + 1}\"] * self.reg\n",
    "        # *****END OF YOUR CODE (DO NOT DELETE/MODIFY THIS LINE)*****\n",
    "        ############################################################################\n",
    "        #                             END OF YOUR CODE                             #\n",
    "        ############################################################################\n",
    "\n",
    "        return loss, grads"
   ]
  },
  {
   "cell_type": "markdown",
   "id": "a14a2795",
   "metadata": {
    "pycharm": {
     "name": "#%% md\n"
    }
   },
   "source": [
    "## Initial Loss and Gradient Check\n",
    "\n",
    "As a sanity check, run the following to check the initial loss and to gradient check the network both with and without regularization. This is a good way to see if the initial losses seem reasonable.\n",
    "\n",
    "For gradient checking, you should expect to see errors around 1e-7 or less."
   ]
  },
  {
   "cell_type": "code",
   "execution_count": 98,
   "id": "cf719033",
   "metadata": {
    "pycharm": {
     "name": "#%%\n"
    }
   },
   "outputs": [
    {
     "name": "stdout",
     "output_type": "stream",
     "text": [
      "Running check with reg =  0\n",
      "Initial loss:  2.300479089768492\n",
      "W1 relative error: 3.0233513353644584e-07\n"
     ]
    },
    {
     "name": "stderr",
     "output_type": "stream",
     "text": [
      "/tmp/ipykernel_112369/723705106.py:19: DeprecationWarning: `np.int` is a deprecated alias for the builtin `int`. To silence this warning, use `int` by itself. Doing this will not modify any behavior and is safe. When replacing `np.int`, you may wish to use e.g. `np.int64` or `np.int32` to specify the precision. If you wish to review your current use, check the release note link for additional information.\n",
      "Deprecated in NumPy 1.20; for more details and guidance: https://numpy.org/devdocs/release/1.20.0-notes.html#deprecations\n",
      "  y = y.astype(np.int)\n"
     ]
    },
    {
     "name": "stdout",
     "output_type": "stream",
     "text": [
      "W2 relative error: 1.0139831371325873e-05\n",
      "W3 relative error: 3.201352879891268e-07\n",
      "b1 relative error: 4.660094650186831e-09\n",
      "b2 relative error: 2.085654124402131e-09\n",
      "b3 relative error: 1.4608018837104575e-10\n",
      "Running check with reg =  3.14\n",
      "Initial loss:  7.052114776533016\n",
      "W1 relative error: 6.862884860440611e-09\n",
      "W2 relative error: 3.522821562176466e-08\n",
      "W3 relative error: 2.2242182817294795e-08\n",
      "b1 relative error: 1.1683196894962977e-08\n",
      "b2 relative error: 2.5757492216695857e-09\n",
      "b3 relative error: 2.86824680346369e-10\n"
     ]
    }
   ],
   "source": [
    "np.random.seed(231)\n",
    "N, D, H1, H2, C = 2, 15, 20, 30, 10\n",
    "X = np.random.randn(N, D)\n",
    "y = np.random.randint(C, size=(N,))\n",
    "\n",
    "for reg in [0, 3.14]:\n",
    "    print(\"Running check with reg = \", reg)\n",
    "    model = FullyConnectedNet(\n",
    "        \"classification\",\n",
    "        [H1, H2],\n",
    "        [False, False],\n",
    "        input_dim=D,\n",
    "        output_dim=C,\n",
    "        reg=reg,\n",
    "        weight_scale=5e-2,\n",
    "        dtype=np.float64\n",
    "    )\n",
    "\n",
    "    loss, grads = model.loss(X, y)\n",
    "    print(\"Initial loss: \", loss)\n",
    "\n",
    "    # Most of the errors should be on the order of e-7 or smaller.   \n",
    "    # NOTE: It is fine however to see an error for W2 on the order of e-5\n",
    "    # for the check when reg = 0.0\n",
    "    for name in sorted(grads):\n",
    "        f = lambda _: model.loss(X, y)[0]\n",
    "        grad_num = eval_numerical_gradient(f, model.params[name], verbose=False, h=1e-5)\n",
    "        print(f\"{name} relative error: {rel_error(grad_num, grads[name])}\")"
   ]
  },
  {
   "cell_type": "code",
   "execution_count": 99,
   "id": "0bc48caf",
   "metadata": {
    "pycharm": {
     "name": "#%%\n"
    }
   },
   "outputs": [
    {
     "name": "stdout",
     "output_type": "stream",
     "text": [
      "Running check with reg =  0\n",
      "Initial loss:  2.2611955101340957\n",
      "W1 relative error: 1.10e-04\n"
     ]
    },
    {
     "name": "stderr",
     "output_type": "stream",
     "text": [
      "/tmp/ipykernel_112369/723705106.py:19: DeprecationWarning: `np.int` is a deprecated alias for the builtin `int`. To silence this warning, use `int` by itself. Doing this will not modify any behavior and is safe. When replacing `np.int`, you may wish to use e.g. `np.int64` or `np.int32` to specify the precision. If you wish to review your current use, check the release note link for additional information.\n",
      "Deprecated in NumPy 1.20; for more details and guidance: https://numpy.org/devdocs/release/1.20.0-notes.html#deprecations\n",
      "  y = y.astype(np.int)\n"
     ]
    },
    {
     "name": "stdout",
     "output_type": "stream",
     "text": [
      "W2 relative error: 4.27e-06\n",
      "W3 relative error: 5.54e-10\n",
      "b1 relative error: 2.66e-07\n",
      "b2 relative error: 2.22e-08\n",
      "b3 relative error: 9.06e-11\n",
      "beta1 relative error: 7.33e-09\n",
      "beta2 relative error: 1.89e-09\n",
      "gamma1 relative error: 7.47e-09\n",
      "gamma2 relative error: 3.35e-09\n",
      "\n",
      "Running check with reg =  3.14\n",
      "Initial loss:  6.996533220108303\n",
      "W1 relative error: 1.98e-06\n",
      "W2 relative error: 2.29e-06\n",
      "W3 relative error: 1.11e-08\n",
      "b1 relative error: 1.38e-08\n",
      "b2 relative error: 7.99e-07\n",
      "b3 relative error: 1.42e-10\n",
      "beta1 relative error: 6.65e-09\n",
      "beta2 relative error: 5.69e-09\n",
      "gamma1 relative error: 5.94e-09\n",
      "gamma2 relative error: 4.14e-09\n"
     ]
    }
   ],
   "source": [
    "np.random.seed(231)\n",
    "N, D, H1, H2, C = 2, 15, 20, 30, 10\n",
    "X = np.random.randn(N, D)\n",
    "y = np.random.randint(C, size=(N,))\n",
    "\n",
    "# You should expect losses between 1e-4~1e-10 for W, \n",
    "# losses between 1e-08~1e-10 for b,\n",
    "# and losses between 1e-08~1e-09 for beta and gammas.\n",
    "for reg in [0, 3.14]:\n",
    "    print('Running check with reg = ', reg)\n",
    "    model = FullyConnectedNet(\n",
    "        \"classification\",\n",
    "        [H1, H2],\n",
    "        [True, True],\n",
    "        input_dim=D,\n",
    "        output_dim=C,\n",
    "        reg=reg,\n",
    "        weight_scale=5e-2,\n",
    "        dtype=np.float64\n",
    "    )\n",
    "\n",
    "    loss, grads = model.loss(X, y)\n",
    "    print('Initial loss: ', loss)\n",
    "\n",
    "    for name in sorted(grads):\n",
    "        f = lambda _: model.loss(X, y)[0]\n",
    "        grad_num = eval_numerical_gradient(f, model.params[name], verbose=False, h=1e-5)\n",
    "        print('%s relative error: %.2e' % (name, rel_error(grad_num, grads[name])))\n",
    "    if reg == 0: print()"
   ]
  },
  {
   "cell_type": "markdown",
   "id": "6042ddcf",
   "metadata": {
    "pycharm": {
     "name": "#%% md\n"
    }
   },
   "source": [
    "## SGD+Momentum\n",
    "Stochastic gradient descent with momentum is a widely used update rule that tends to make deep networks converge faster than vanilla stochastic gradient descent.\n",
    "\n",
    "Implement the SGD+momentum update rule in the function `sgd_momentum`."
   ]
  },
  {
   "cell_type": "code",
   "execution_count": 39,
   "id": "2e678506",
   "metadata": {
    "pycharm": {
     "name": "#%%\n"
    }
   },
   "outputs": [],
   "source": [
    "def sgd_momentum(w, dw, config=None):\n",
    "    \"\"\"\n",
    "    Performs stochastic gradient descent with momentum.\n",
    "    Inputs:\n",
    "    - w: A numpy array giving the current weights.\n",
    "    - dw: A numpy array of the same shape as w giving the gradient of the\n",
    "    loss with respect to w.\n",
    "    - config: A dictionary containing hyperparameter values such as learning\n",
    "    rate, momentum.\n",
    "\n",
    "    Returns:\n",
    "      - next_w: The next point after the update.\n",
    "      - config: The config dictionary to be passed to the next iteration of the\n",
    "        update rule.\n",
    "\n",
    "    config format:\n",
    "    - learning_rate: Scalar learning rate.\n",
    "    - momentum: Scalar between 0 and 1 giving the momentum value.\n",
    "      Setting momentum = 0 reduces sgd_momentum to stochastic gradient descent.\n",
    "    - velocity: A numpy array of the same shape as w and dw used to store a\n",
    "      moving average of the gradients.\n",
    "    \"\"\"\n",
    "    if config is None:\n",
    "        config = {}\n",
    "    config.setdefault(\"learning_rate\", 1e-2)\n",
    "    config.setdefault(\"momentum\", 0.9)\n",
    "    v = config.get(\"velocity\", np.zeros_like(w))\n",
    "\n",
    "    next_w = None\n",
    "    ###########################################################################\n",
    "    # TODO: Implement the momentum update formula. Store the updated value in #\n",
    "    # the next_w variable. You should also use and update the velocity v.     #\n",
    "    ###########################################################################\n",
    "    # *****START OF YOUR CODE (DO NOT DELETE/MODIFY THIS LINE)*****\n",
    "    v = (config['momentum']) * v - config['learning_rate'] * dw\n",
    "    next_w = w + v\n",
    "\n",
    "    # *****END OF YOUR CODE (DO NOT DELETE/MODIFY THIS LINE)*****\n",
    "    ###########################################################################\n",
    "    #                             END OF YOUR CODE                            #\n",
    "    ###########################################################################\n",
    "    config[\"velocity\"] = v\n",
    "\n",
    "    return next_w, config"
   ]
  },
  {
   "cell_type": "markdown",
   "id": "f1730d10",
   "metadata": {
    "pycharm": {
     "name": "#%% md\n"
    }
   },
   "source": [
    "Run the following to check your implementation. You should see errors less than e-8."
   ]
  },
  {
   "cell_type": "code",
   "execution_count": 40,
   "id": "3595fc5b",
   "metadata": {
    "pycharm": {
     "name": "#%%\n"
    }
   },
   "outputs": [
    {
     "name": "stdout",
     "output_type": "stream",
     "text": [
      "next_w error:  8.882347033505819e-09\n",
      "velocity error:  4.269287743278663e-09\n"
     ]
    }
   ],
   "source": [
    "N, D = 4, 5\n",
    "w = np.linspace(-0.4, 0.6, num=N * D).reshape(N, D)\n",
    "dw = np.linspace(-0.6, 0.4, num=N * D).reshape(N, D)\n",
    "v = np.linspace(0.6, 0.9, num=N * D).reshape(N, D)\n",
    "\n",
    "config = {\"learning_rate\": 1e-3, \"velocity\": v}\n",
    "next_w, _ = sgd_momentum(w, dw, config=config)\n",
    "\n",
    "expected_next_w = np.asarray([\n",
    "    [0.1406, 0.20738947, 0.27417895, 0.34096842, 0.40775789],\n",
    "    [0.47454737, 0.54133684, 0.60812632, 0.67491579, 0.74170526],\n",
    "    [0.80849474, 0.87528421, 0.94207368, 1.00886316, 1.07565263],\n",
    "    [1.14244211, 1.20923158, 1.27602105, 1.34281053, 1.4096]])\n",
    "expected_velocity = np.asarray([\n",
    "    [0.5406, 0.55475789, 0.56891579, 0.58307368, 0.59723158],\n",
    "    [0.61138947, 0.62554737, 0.63970526, 0.65386316, 0.66802105],\n",
    "    [0.68217895, 0.69633684, 0.71049474, 0.72465263, 0.73881053],\n",
    "    [0.75296842, 0.76712632, 0.78128421, 0.79544211, 0.8096]])\n",
    "\n",
    "# Should see relative errors around e-8 or less\n",
    "print(\"next_w error: \", rel_error(next_w, expected_next_w))\n",
    "print(\"velocity error: \", rel_error(expected_velocity, config[\"velocity\"]))"
   ]
  },
  {
   "cell_type": "markdown",
   "id": "cc30c93e",
   "metadata": {
    "pycharm": {
     "name": "#%% md\n"
    }
   },
   "source": [
    "# MNIST\n",
    "MNIST is a widely used dataset of handwritten digits that contains 60,000 handwritten digits for training a machine learning model and 10,000 handwritten digits for testing the model."
   ]
  },
  {
   "cell_type": "code",
   "execution_count": 41,
   "id": "e3fa8400",
   "metadata": {
    "pycharm": {
     "name": "#%%\n"
    }
   },
   "outputs": [
    {
     "name": "stdout",
     "output_type": "stream",
     "text": [
      "Train data shape:  (50000, 784)\n",
      "Train labels shape:  (50000,)\n",
      "Validation data shape:  (10000, 784)\n",
      "Validation labels shape:  (10000,)\n",
      "Test data shape:  (10000, 784)\n",
      "Test labels shape:  (10000,)\n"
     ]
    }
   ],
   "source": [
    "X_train, y_train, X_val, y_val, X_test, y_test = get_MNIST_data()\n",
    "print('Train data shape: ', X_train.shape)\n",
    "print('Train labels shape: ', y_train.shape)\n",
    "print('Validation data shape: ', X_val.shape)\n",
    "print('Validation labels shape: ', y_val.shape)\n",
    "print('Test data shape: ', X_test.shape)\n",
    "print('Test labels shape: ', y_test.shape)"
   ]
  },
  {
   "cell_type": "code",
   "execution_count": 42,
   "id": "1e15a728",
   "metadata": {
    "pycharm": {
     "name": "#%%\n"
    }
   },
   "outputs": [
    {
     "data": {
      "image/png": "[encoded data removed]",
      "text/plain": [
       "<Figure size 720x576 with 70 Axes>"
      ]
     },
     "metadata": {
      "needs_background": "light"
     },
     "output_type": "display_data"
    }
   ],
   "source": [
    "# Visualize some examples from the dataset.\n",
    "# We show a few examples of training images from each class.\n",
    "classes = list(range(10))\n",
    "num_classes = len(classes)\n",
    "samples_per_class = 7\n",
    "for y, cls in enumerate(classes):\n",
    "    idxs = np.flatnonzero(y_train == y)\n",
    "    idxs = np.random.choice(idxs, samples_per_class, replace=False)\n",
    "    for i, idx in enumerate(idxs):\n",
    "        plt_idx = i * num_classes + y + 1\n",
    "        plt.subplot(samples_per_class, num_classes, plt_idx)\n",
    "        plt.imshow(X_train[idx].reshape((28, 28)))\n",
    "        plt.axis('off')\n",
    "        if i == 0:\n",
    "            plt.title(cls)\n",
    "plt.show()"
   ]
  },
  {
   "cell_type": "markdown",
   "id": "ca6ad76a",
   "metadata": {
    "pycharm": {
     "name": "#%% md\n"
    }
   },
   "source": [
    "Data normalization is an important step which ensures that each input parameter has a similar data distribution. This makes convergence faster while training the network."
   ]
  },
  {
   "cell_type": "code",
   "execution_count": 43,
   "id": "ea87dfbb",
   "metadata": {
    "pycharm": {
     "name": "#%%\n"
    }
   },
   "outputs": [],
   "source": [
    "X_train, X_val, X_test = get_normalized_MNIST_data(X_train, X_val, X_test)"
   ]
  },
  {
   "cell_type": "markdown",
   "id": "3ed0af35",
   "metadata": {
    "pycharm": {
     "name": "#%% md\n"
    }
   },
   "source": [
    "# Train a Good Model!\n",
    "Open the file `solver.py` and read through it to familiarize yourself with the API. After doing so, use a `Solver` instance to train the best fully connected model that you can on MNIST, storing your best model in the `MNIST_best_model` variable. We require you to get at least 95% accuracy on the validation set using a fully connected network."
   ]
  },
  {
   "cell_type": "code",
   "execution_count": 80,
   "id": "5d59d748",
   "metadata": {
    "pycharm": {
     "name": "#%%\n"
    }
   },
   "outputs": [
    {
     "name": "stderr",
     "output_type": "stream",
     "text": [
      "/tmp/ipykernel_112369/723705106.py:19: DeprecationWarning: `np.int` is a deprecated alias for the builtin `int`. To silence this warning, use `int` by itself. Doing this will not modify any behavior and is safe. When replacing `np.int`, you may wish to use e.g. `np.int64` or `np.int32` to specify the precision. If you wish to review your current use, check the release note link for additional information.\n",
      "Deprecated in NumPy 1.20; for more details and guidance: https://numpy.org/devdocs/release/1.20.0-notes.html#deprecations\n",
      "  y = y.astype(np.int)\n"
     ]
    },
    {
     "name": "stdout",
     "output_type": "stream",
     "text": [
      "(Iteration 1 / 5000) loss: 2.304645\n",
      "(Epoch 0 / 10) train acc: 0.137000; val_acc: 0.117500\n",
      "(Iteration 11 / 5000) loss: 2.196452\n",
      "(Iteration 21 / 5000) loss: 1.797231\n",
      "(Iteration 31 / 5000) loss: 1.492927\n",
      "(Iteration 41 / 5000) loss: 1.197718\n",
      "(Iteration 51 / 5000) loss: 1.123132\n",
      "(Iteration 61 / 5000) loss: 0.767181\n",
      "(Iteration 71 / 5000) loss: 0.769505\n",
      "(Iteration 81 / 5000) loss: 0.658531\n",
      "(Iteration 91 / 5000) loss: 0.616360\n",
      "(Iteration 101 / 5000) loss: 0.453465\n",
      "(Iteration 111 / 5000) loss: 0.698587\n",
      "(Iteration 121 / 5000) loss: 0.455872\n",
      "(Iteration 131 / 5000) loss: 0.285701\n",
      "(Iteration 141 / 5000) loss: 0.352363\n",
      "(Iteration 151 / 5000) loss: 0.272747\n",
      "(Iteration 161 / 5000) loss: 0.266319\n",
      "(Iteration 171 / 5000) loss: 0.247857\n",
      "(Iteration 181 / 5000) loss: 0.273296\n",
      "(Iteration 191 / 5000) loss: 0.231921\n",
      "(Iteration 201 / 5000) loss: 0.126202\n",
      "(Iteration 211 / 5000) loss: 0.284919\n",
      "(Iteration 221 / 5000) loss: 0.188757\n",
      "(Iteration 231 / 5000) loss: 0.187185\n",
      "(Iteration 241 / 5000) loss: 0.182200\n",
      "(Iteration 251 / 5000) loss: 0.299628\n",
      "(Iteration 261 / 5000) loss: 0.160849\n",
      "(Iteration 271 / 5000) loss: 0.227851\n",
      "(Iteration 281 / 5000) loss: 0.157352\n",
      "(Iteration 291 / 5000) loss: 0.176214\n",
      "(Iteration 301 / 5000) loss: 0.139903\n",
      "(Iteration 311 / 5000) loss: 0.118439\n",
      "(Iteration 321 / 5000) loss: 0.171184\n",
      "(Iteration 331 / 5000) loss: 0.087884\n",
      "(Iteration 341 / 5000) loss: 0.268109\n",
      "(Iteration 351 / 5000) loss: 0.119347\n",
      "(Iteration 361 / 5000) loss: 0.200156\n",
      "(Iteration 371 / 5000) loss: 0.253934\n",
      "(Iteration 381 / 5000) loss: 0.109748\n",
      "(Iteration 391 / 5000) loss: 0.144965\n",
      "(Iteration 401 / 5000) loss: 0.116627\n",
      "(Iteration 411 / 5000) loss: 0.034593\n",
      "(Iteration 421 / 5000) loss: 0.112220\n",
      "(Iteration 431 / 5000) loss: 0.066365\n",
      "(Iteration 441 / 5000) loss: 0.083852\n",
      "(Iteration 451 / 5000) loss: 0.194224\n",
      "(Iteration 461 / 5000) loss: 0.161544\n",
      "(Iteration 471 / 5000) loss: 0.073178\n",
      "(Iteration 481 / 5000) loss: 0.079118\n",
      "(Iteration 491 / 5000) loss: 0.077713\n",
      "(Epoch 1 / 10) train acc: 0.969000; val_acc: 0.967000\n",
      "(Iteration 501 / 5000) loss: 0.111408\n",
      "(Iteration 511 / 5000) loss: 0.052492\n",
      "(Iteration 521 / 5000) loss: 0.066304\n",
      "(Iteration 531 / 5000) loss: 0.191856\n",
      "(Iteration 541 / 5000) loss: 0.081980\n",
      "(Iteration 551 / 5000) loss: 0.153543\n",
      "(Iteration 561 / 5000) loss: 0.144097\n",
      "(Iteration 571 / 5000) loss: 0.049855\n",
      "(Iteration 581 / 5000) loss: 0.144669\n",
      "(Iteration 591 / 5000) loss: 0.042497\n",
      "(Iteration 601 / 5000) loss: 0.124230\n",
      "(Iteration 611 / 5000) loss: 0.129458\n",
      "(Iteration 621 / 5000) loss: 0.096181\n",
      "(Iteration 631 / 5000) loss: 0.132813\n",
      "(Iteration 641 / 5000) loss: 0.059093\n",
      "(Iteration 651 / 5000) loss: 0.084921\n",
      "(Iteration 661 / 5000) loss: 0.100008\n",
      "(Iteration 671 / 5000) loss: 0.199859\n",
      "(Iteration 681 / 5000) loss: 0.112894\n",
      "(Iteration 691 / 5000) loss: 0.073006\n",
      "(Iteration 701 / 5000) loss: 0.128236\n",
      "(Iteration 711 / 5000) loss: 0.188179\n",
      "(Iteration 721 / 5000) loss: 0.133891\n",
      "(Iteration 731 / 5000) loss: 0.108741\n",
      "(Iteration 741 / 5000) loss: 0.080921\n",
      "(Iteration 751 / 5000) loss: 0.076027\n",
      "(Iteration 761 / 5000) loss: 0.084757\n",
      "(Iteration 771 / 5000) loss: 0.114854\n",
      "(Iteration 781 / 5000) loss: 0.040719\n",
      "(Iteration 791 / 5000) loss: 0.133554\n",
      "(Iteration 801 / 5000) loss: 0.086052\n",
      "(Iteration 811 / 5000) loss: 0.100992\n",
      "(Iteration 821 / 5000) loss: 0.081633\n",
      "(Iteration 831 / 5000) loss: 0.040578\n",
      "(Iteration 841 / 5000) loss: 0.076497\n",
      "(Iteration 851 / 5000) loss: 0.084940\n",
      "(Iteration 861 / 5000) loss: 0.093070\n",
      "(Iteration 871 / 5000) loss: 0.074547\n",
      "(Iteration 881 / 5000) loss: 0.082770\n",
      "(Iteration 891 / 5000) loss: 0.105813\n",
      "(Iteration 901 / 5000) loss: 0.163409\n",
      "(Iteration 911 / 5000) loss: 0.156656\n",
      "(Iteration 921 / 5000) loss: 0.025270\n",
      "(Iteration 931 / 5000) loss: 0.084526\n",
      "(Iteration 941 / 5000) loss: 0.046575\n",
      "(Iteration 951 / 5000) loss: 0.109560\n",
      "(Iteration 961 / 5000) loss: 0.072958\n",
      "(Iteration 971 / 5000) loss: 0.038119\n",
      "(Iteration 981 / 5000) loss: 0.147067\n",
      "(Iteration 991 / 5000) loss: 0.058439\n",
      "(Epoch 2 / 10) train acc: 0.984000; val_acc: 0.970300\n",
      "(Iteration 1001 / 5000) loss: 0.147788\n",
      "(Iteration 1011 / 5000) loss: 0.066777\n",
      "(Iteration 1021 / 5000) loss: 0.071314\n",
      "(Iteration 1031 / 5000) loss: 0.059956\n",
      "(Iteration 1041 / 5000) loss: 0.086496\n",
      "(Iteration 1051 / 5000) loss: 0.017564\n",
      "(Iteration 1061 / 5000) loss: 0.035189\n",
      "(Iteration 1071 / 5000) loss: 0.038530\n",
      "(Iteration 1081 / 5000) loss: 0.060569\n",
      "(Iteration 1091 / 5000) loss: 0.047530\n",
      "(Iteration 1101 / 5000) loss: 0.031866\n",
      "(Iteration 1111 / 5000) loss: 0.066048\n",
      "(Iteration 1121 / 5000) loss: 0.119989\n",
      "(Iteration 1131 / 5000) loss: 0.019134\n",
      "(Iteration 1141 / 5000) loss: 0.052951\n",
      "(Iteration 1151 / 5000) loss: 0.183653\n",
      "(Iteration 1161 / 5000) loss: 0.048687\n",
      "(Iteration 1171 / 5000) loss: 0.109062\n",
      "(Iteration 1181 / 5000) loss: 0.050944\n",
      "(Iteration 1191 / 5000) loss: 0.061982\n",
      "(Iteration 1201 / 5000) loss: 0.036953\n",
      "(Iteration 1211 / 5000) loss: 0.023893\n",
      "(Iteration 1221 / 5000) loss: 0.057431\n",
      "(Iteration 1231 / 5000) loss: 0.019631\n",
      "(Iteration 1241 / 5000) loss: 0.040368\n",
      "(Iteration 1251 / 5000) loss: 0.041875\n",
      "(Iteration 1261 / 5000) loss: 0.009635\n",
      "(Iteration 1271 / 5000) loss: 0.016205\n",
      "(Iteration 1281 / 5000) loss: 0.099737\n",
      "(Iteration 1291 / 5000) loss: 0.046942\n",
      "(Iteration 1301 / 5000) loss: 0.048895\n",
      "(Iteration 1311 / 5000) loss: 0.060687\n",
      "(Iteration 1321 / 5000) loss: 0.013376\n",
      "(Iteration 1331 / 5000) loss: 0.076271\n",
      "(Iteration 1341 / 5000) loss: 0.126575\n",
      "(Iteration 1351 / 5000) loss: 0.047714\n",
      "(Iteration 1361 / 5000) loss: 0.019997\n",
      "(Iteration 1371 / 5000) loss: 0.033282\n",
      "(Iteration 1381 / 5000) loss: 0.039231\n",
      "(Iteration 1391 / 5000) loss: 0.054517\n",
      "(Iteration 1401 / 5000) loss: 0.073792\n",
      "(Iteration 1411 / 5000) loss: 0.078923\n",
      "(Iteration 1421 / 5000) loss: 0.040774\n",
      "(Iteration 1431 / 5000) loss: 0.055232\n",
      "(Iteration 1441 / 5000) loss: 0.050848\n",
      "(Iteration 1451 / 5000) loss: 0.048575\n",
      "(Iteration 1461 / 5000) loss: 0.085830\n",
      "(Iteration 1471 / 5000) loss: 0.018704\n",
      "(Iteration 1481 / 5000) loss: 0.050311\n",
      "(Iteration 1491 / 5000) loss: 0.020938\n",
      "(Epoch 3 / 10) train acc: 0.985000; val_acc: 0.977600\n",
      "(Iteration 1501 / 5000) loss: 0.043920\n",
      "(Iteration 1511 / 5000) loss: 0.048755\n",
      "(Iteration 1521 / 5000) loss: 0.014897\n",
      "(Iteration 1531 / 5000) loss: 0.021441\n",
      "(Iteration 1541 / 5000) loss: 0.075144\n",
      "(Iteration 1551 / 5000) loss: 0.075400\n",
      "(Iteration 1561 / 5000) loss: 0.047169\n",
      "(Iteration 1571 / 5000) loss: 0.025331\n",
      "(Iteration 1581 / 5000) loss: 0.035593\n",
      "(Iteration 1591 / 5000) loss: 0.049467\n",
      "(Iteration 1601 / 5000) loss: 0.058831\n",
      "(Iteration 1611 / 5000) loss: 0.066844\n",
      "(Iteration 1621 / 5000) loss: 0.154345\n",
      "(Iteration 1631 / 5000) loss: 0.016464\n",
      "(Iteration 1641 / 5000) loss: 0.080562\n",
      "(Iteration 1651 / 5000) loss: 0.013547\n",
      "(Iteration 1661 / 5000) loss: 0.124462\n",
      "(Iteration 1671 / 5000) loss: 0.038843\n",
      "(Iteration 1681 / 5000) loss: 0.037878\n",
      "(Iteration 1691 / 5000) loss: 0.034015\n",
      "(Iteration 1701 / 5000) loss: 0.071192\n",
      "(Iteration 1711 / 5000) loss: 0.062132\n",
      "(Iteration 1721 / 5000) loss: 0.021114\n",
      "(Iteration 1731 / 5000) loss: 0.134703\n",
      "(Iteration 1741 / 5000) loss: 0.090761\n",
      "(Iteration 1751 / 5000) loss: 0.072788\n",
      "(Iteration 1761 / 5000) loss: 0.093229\n",
      "(Iteration 1771 / 5000) loss: 0.024129\n",
      "(Iteration 1781 / 5000) loss: 0.044379\n",
      "(Iteration 1791 / 5000) loss: 0.018539\n",
      "(Iteration 1801 / 5000) loss: 0.036705\n",
      "(Iteration 1811 / 5000) loss: 0.015224\n",
      "(Iteration 1821 / 5000) loss: 0.015917\n",
      "(Iteration 1831 / 5000) loss: 0.053564\n",
      "(Iteration 1841 / 5000) loss: 0.047358\n",
      "(Iteration 1851 / 5000) loss: 0.028392\n",
      "(Iteration 1861 / 5000) loss: 0.006630\n",
      "(Iteration 1871 / 5000) loss: 0.028179\n",
      "(Iteration 1881 / 5000) loss: 0.040089\n",
      "(Iteration 1891 / 5000) loss: 0.012046\n",
      "(Iteration 1901 / 5000) loss: 0.053544\n",
      "(Iteration 1911 / 5000) loss: 0.045010\n",
      "(Iteration 1921 / 5000) loss: 0.031441\n",
      "(Iteration 1931 / 5000) loss: 0.048532\n",
      "(Iteration 1941 / 5000) loss: 0.069952\n",
      "(Iteration 1951 / 5000) loss: 0.025007\n",
      "(Iteration 1961 / 5000) loss: 0.033342\n",
      "(Iteration 1971 / 5000) loss: 0.021031\n",
      "(Iteration 1981 / 5000) loss: 0.028495\n",
      "(Iteration 1991 / 5000) loss: 0.011120\n",
      "(Epoch 4 / 10) train acc: 0.993000; val_acc: 0.979000\n",
      "(Iteration 2001 / 5000) loss: 0.104437\n",
      "(Iteration 2011 / 5000) loss: 0.069151\n",
      "(Iteration 2021 / 5000) loss: 0.020788\n",
      "(Iteration 2031 / 5000) loss: 0.032623\n",
      "(Iteration 2041 / 5000) loss: 0.023519\n",
      "(Iteration 2051 / 5000) loss: 0.030006\n",
      "(Iteration 2061 / 5000) loss: 0.062742\n",
      "(Iteration 2071 / 5000) loss: 0.093652\n",
      "(Iteration 2081 / 5000) loss: 0.087822\n",
      "(Iteration 2091 / 5000) loss: 0.007035\n",
      "(Iteration 2101 / 5000) loss: 0.059309\n",
      "(Iteration 2111 / 5000) loss: 0.013801\n",
      "(Iteration 2121 / 5000) loss: 0.013546\n",
      "(Iteration 2131 / 5000) loss: 0.008606\n",
      "(Iteration 2141 / 5000) loss: 0.016908\n",
      "(Iteration 2151 / 5000) loss: 0.049103\n",
      "(Iteration 2161 / 5000) loss: 0.036393\n",
      "(Iteration 2171 / 5000) loss: 0.014804\n",
      "(Iteration 2181 / 5000) loss: 0.095703\n",
      "(Iteration 2191 / 5000) loss: 0.009781\n",
      "(Iteration 2201 / 5000) loss: 0.017406\n",
      "(Iteration 2211 / 5000) loss: 0.047249\n",
      "(Iteration 2221 / 5000) loss: 0.013022\n",
      "(Iteration 2231 / 5000) loss: 0.127075\n",
      "(Iteration 2241 / 5000) loss: 0.124655\n",
      "(Iteration 2251 / 5000) loss: 0.077752\n",
      "(Iteration 2261 / 5000) loss: 0.042572\n",
      "(Iteration 2271 / 5000) loss: 0.032892\n",
      "(Iteration 2281 / 5000) loss: 0.104529\n",
      "(Iteration 2291 / 5000) loss: 0.014146\n",
      "(Iteration 2301 / 5000) loss: 0.077919\n",
      "(Iteration 2311 / 5000) loss: 0.032332\n",
      "(Iteration 2321 / 5000) loss: 0.017737\n",
      "(Iteration 2331 / 5000) loss: 0.038969\n",
      "(Iteration 2341 / 5000) loss: 0.011526\n",
      "(Iteration 2351 / 5000) loss: 0.027816\n",
      "(Iteration 2361 / 5000) loss: 0.035682\n",
      "(Iteration 2371 / 5000) loss: 0.016912\n",
      "(Iteration 2381 / 5000) loss: 0.030988\n",
      "(Iteration 2391 / 5000) loss: 0.083367\n",
      "(Iteration 2401 / 5000) loss: 0.015144\n",
      "(Iteration 2411 / 5000) loss: 0.015945\n",
      "(Iteration 2421 / 5000) loss: 0.050672\n",
      "(Iteration 2431 / 5000) loss: 0.005129\n",
      "(Iteration 2441 / 5000) loss: 0.098903\n",
      "(Iteration 2451 / 5000) loss: 0.015470\n",
      "(Iteration 2461 / 5000) loss: 0.060159\n",
      "(Iteration 2471 / 5000) loss: 0.056897\n",
      "(Iteration 2481 / 5000) loss: 0.003312\n",
      "(Iteration 2491 / 5000) loss: 0.046872\n",
      "(Epoch 5 / 10) train acc: 0.988000; val_acc: 0.977700\n",
      "(Iteration 2501 / 5000) loss: 0.023199\n",
      "(Iteration 2511 / 5000) loss: 0.072856\n",
      "(Iteration 2521 / 5000) loss: 0.060676\n",
      "(Iteration 2531 / 5000) loss: 0.016207\n",
      "(Iteration 2541 / 5000) loss: 0.012894\n",
      "(Iteration 2551 / 5000) loss: 0.077370\n",
      "(Iteration 2561 / 5000) loss: 0.004051\n",
      "(Iteration 2571 / 5000) loss: 0.080162\n",
      "(Iteration 2581 / 5000) loss: 0.018732\n",
      "(Iteration 2591 / 5000) loss: 0.014515\n",
      "(Iteration 2601 / 5000) loss: 0.012737\n",
      "(Iteration 2611 / 5000) loss: 0.032496\n",
      "(Iteration 2621 / 5000) loss: 0.011609\n",
      "(Iteration 2631 / 5000) loss: 0.015644\n",
      "(Iteration 2641 / 5000) loss: 0.033834\n",
      "(Iteration 2651 / 5000) loss: 0.034200\n",
      "(Iteration 2661 / 5000) loss: 0.018293\n",
      "(Iteration 2671 / 5000) loss: 0.012722\n",
      "(Iteration 2681 / 5000) loss: 0.012870\n",
      "(Iteration 2691 / 5000) loss: 0.016315\n",
      "(Iteration 2701 / 5000) loss: 0.037652\n",
      "(Iteration 2711 / 5000) loss: 0.015610\n",
      "(Iteration 2721 / 5000) loss: 0.009351\n",
      "(Iteration 2731 / 5000) loss: 0.066582\n",
      "(Iteration 2741 / 5000) loss: 0.077788\n",
      "(Iteration 2751 / 5000) loss: 0.005175\n",
      "(Iteration 2761 / 5000) loss: 0.012108\n",
      "(Iteration 2771 / 5000) loss: 0.006077\n",
      "(Iteration 2781 / 5000) loss: 0.017450\n",
      "(Iteration 2791 / 5000) loss: 0.014912\n",
      "(Iteration 2801 / 5000) loss: 0.014768\n",
      "(Iteration 2811 / 5000) loss: 0.012973\n",
      "(Iteration 2821 / 5000) loss: 0.006273\n",
      "(Iteration 2831 / 5000) loss: 0.015959\n",
      "(Iteration 2841 / 5000) loss: 0.049453\n",
      "(Iteration 2851 / 5000) loss: 0.067306\n",
      "(Iteration 2861 / 5000) loss: 0.009501\n",
      "(Iteration 2871 / 5000) loss: 0.016725\n",
      "(Iteration 2881 / 5000) loss: 0.006276\n",
      "(Iteration 2891 / 5000) loss: 0.006176\n",
      "(Iteration 2901 / 5000) loss: 0.021818\n",
      "(Iteration 2911 / 5000) loss: 0.035498\n",
      "(Iteration 2921 / 5000) loss: 0.004822\n",
      "(Iteration 2931 / 5000) loss: 0.011100\n",
      "(Iteration 2941 / 5000) loss: 0.006987\n",
      "(Iteration 2951 / 5000) loss: 0.073128\n",
      "(Iteration 2961 / 5000) loss: 0.057167\n",
      "(Iteration 2971 / 5000) loss: 0.077717\n",
      "(Iteration 2981 / 5000) loss: 0.014157\n",
      "(Iteration 2991 / 5000) loss: 0.007904\n",
      "(Epoch 6 / 10) train acc: 0.992000; val_acc: 0.977100\n",
      "(Iteration 3001 / 5000) loss: 0.004661\n",
      "(Iteration 3011 / 5000) loss: 0.007453\n",
      "(Iteration 3021 / 5000) loss: 0.028591\n",
      "(Iteration 3031 / 5000) loss: 0.007329\n",
      "(Iteration 3041 / 5000) loss: 0.014219\n",
      "(Iteration 3051 / 5000) loss: 0.028028\n",
      "(Iteration 3061 / 5000) loss: 0.003755\n",
      "(Iteration 3071 / 5000) loss: 0.010428\n",
      "(Iteration 3081 / 5000) loss: 0.006234\n",
      "(Iteration 3091 / 5000) loss: 0.034813\n",
      "(Iteration 3101 / 5000) loss: 0.033340\n",
      "(Iteration 3111 / 5000) loss: 0.005443\n",
      "(Iteration 3121 / 5000) loss: 0.047994\n",
      "(Iteration 3131 / 5000) loss: 0.048949\n",
      "(Iteration 3141 / 5000) loss: 0.020481\n",
      "(Iteration 3151 / 5000) loss: 0.034455\n",
      "(Iteration 3161 / 5000) loss: 0.010757\n",
      "(Iteration 3171 / 5000) loss: 0.013078\n",
      "(Iteration 3181 / 5000) loss: 0.054978\n",
      "(Iteration 3191 / 5000) loss: 0.025258\n",
      "(Iteration 3201 / 5000) loss: 0.056866\n",
      "(Iteration 3211 / 5000) loss: 0.030960\n",
      "(Iteration 3221 / 5000) loss: 0.041555\n",
      "(Iteration 3231 / 5000) loss: 0.036676\n",
      "(Iteration 3241 / 5000) loss: 0.033606\n",
      "(Iteration 3251 / 5000) loss: 0.007036\n",
      "(Iteration 3261 / 5000) loss: 0.032350\n",
      "(Iteration 3271 / 5000) loss: 0.006352\n",
      "(Iteration 3281 / 5000) loss: 0.022311\n",
      "(Iteration 3291 / 5000) loss: 0.007763\n",
      "(Iteration 3301 / 5000) loss: 0.039334\n",
      "(Iteration 3311 / 5000) loss: 0.041043\n",
      "(Iteration 3321 / 5000) loss: 0.017555\n",
      "(Iteration 3331 / 5000) loss: 0.006708\n",
      "(Iteration 3341 / 5000) loss: 0.056505\n",
      "(Iteration 3351 / 5000) loss: 0.073567\n",
      "(Iteration 3361 / 5000) loss: 0.005887\n",
      "(Iteration 3371 / 5000) loss: 0.013514\n",
      "(Iteration 3381 / 5000) loss: 0.046171\n",
      "(Iteration 3391 / 5000) loss: 0.016531\n",
      "(Iteration 3401 / 5000) loss: 0.011106\n",
      "(Iteration 3411 / 5000) loss: 0.006641\n",
      "(Iteration 3421 / 5000) loss: 0.030537\n",
      "(Iteration 3431 / 5000) loss: 0.003908\n",
      "(Iteration 3441 / 5000) loss: 0.006483\n",
      "(Iteration 3451 / 5000) loss: 0.016131\n",
      "(Iteration 3461 / 5000) loss: 0.020643\n",
      "(Iteration 3471 / 5000) loss: 0.023279\n",
      "(Iteration 3481 / 5000) loss: 0.003503\n",
      "(Iteration 3491 / 5000) loss: 0.026619\n",
      "(Epoch 7 / 10) train acc: 0.999000; val_acc: 0.980700\n",
      "(Iteration 3501 / 5000) loss: 0.006363\n",
      "(Iteration 3511 / 5000) loss: 0.040566\n",
      "(Iteration 3521 / 5000) loss: 0.018498\n",
      "(Iteration 3531 / 5000) loss: 0.006440\n",
      "(Iteration 3541 / 5000) loss: 0.007820\n",
      "(Iteration 3551 / 5000) loss: 0.007258\n",
      "(Iteration 3561 / 5000) loss: 0.012346\n",
      "(Iteration 3571 / 5000) loss: 0.001961\n",
      "(Iteration 3581 / 5000) loss: 0.009859\n",
      "(Iteration 3591 / 5000) loss: 0.005913\n",
      "(Iteration 3601 / 5000) loss: 0.022783\n",
      "(Iteration 3611 / 5000) loss: 0.013069\n",
      "(Iteration 3621 / 5000) loss: 0.033344\n",
      "(Iteration 3631 / 5000) loss: 0.014811\n",
      "(Iteration 3641 / 5000) loss: 0.005256\n",
      "(Iteration 3651 / 5000) loss: 0.008901\n",
      "(Iteration 3661 / 5000) loss: 0.038765\n",
      "(Iteration 3671 / 5000) loss: 0.005797\n",
      "(Iteration 3681 / 5000) loss: 0.010527\n",
      "(Iteration 3691 / 5000) loss: 0.005306\n",
      "(Iteration 3701 / 5000) loss: 0.013627\n",
      "(Iteration 3711 / 5000) loss: 0.007009\n",
      "(Iteration 3721 / 5000) loss: 0.016881\n",
      "(Iteration 3731 / 5000) loss: 0.010996\n",
      "(Iteration 3741 / 5000) loss: 0.013531\n",
      "(Iteration 3751 / 5000) loss: 0.002107\n",
      "(Iteration 3761 / 5000) loss: 0.031145\n",
      "(Iteration 3771 / 5000) loss: 0.004351\n",
      "(Iteration 3781 / 5000) loss: 0.003116\n",
      "(Iteration 3791 / 5000) loss: 0.020023\n",
      "(Iteration 3801 / 5000) loss: 0.021533\n",
      "(Iteration 3811 / 5000) loss: 0.044081\n",
      "(Iteration 3821 / 5000) loss: 0.048947\n",
      "(Iteration 3831 / 5000) loss: 0.003275\n",
      "(Iteration 3841 / 5000) loss: 0.006264\n",
      "(Iteration 3851 / 5000) loss: 0.013330\n",
      "(Iteration 3861 / 5000) loss: 0.001929\n",
      "(Iteration 3871 / 5000) loss: 0.024090\n",
      "(Iteration 3881 / 5000) loss: 0.015619\n",
      "(Iteration 3891 / 5000) loss: 0.012758\n",
      "(Iteration 3901 / 5000) loss: 0.010356\n",
      "(Iteration 3911 / 5000) loss: 0.010693\n",
      "(Iteration 3921 / 5000) loss: 0.006799\n",
      "(Iteration 3931 / 5000) loss: 0.005564\n",
      "(Iteration 3941 / 5000) loss: 0.004746\n",
      "(Iteration 3951 / 5000) loss: 0.015209\n",
      "(Iteration 3961 / 5000) loss: 0.002397\n",
      "(Iteration 3971 / 5000) loss: 0.007294\n",
      "(Iteration 3981 / 5000) loss: 0.044957\n",
      "(Iteration 3991 / 5000) loss: 0.037703\n",
      "(Epoch 8 / 10) train acc: 0.999000; val_acc: 0.980800\n",
      "(Iteration 4001 / 5000) loss: 0.008573\n",
      "(Iteration 4011 / 5000) loss: 0.004055\n",
      "(Iteration 4021 / 5000) loss: 0.006066\n",
      "(Iteration 4031 / 5000) loss: 0.001514\n",
      "(Iteration 4041 / 5000) loss: 0.045671\n",
      "(Iteration 4051 / 5000) loss: 0.001090\n",
      "(Iteration 4061 / 5000) loss: 0.003384\n",
      "(Iteration 4071 / 5000) loss: 0.031650\n",
      "(Iteration 4081 / 5000) loss: 0.037820\n",
      "(Iteration 4091 / 5000) loss: 0.061118\n",
      "(Iteration 4101 / 5000) loss: 0.003647\n",
      "(Iteration 4111 / 5000) loss: 0.022714\n",
      "(Iteration 4121 / 5000) loss: 0.020483\n",
      "(Iteration 4131 / 5000) loss: 0.004907\n",
      "(Iteration 4141 / 5000) loss: 0.011346\n",
      "(Iteration 4151 / 5000) loss: 0.001261\n",
      "(Iteration 4161 / 5000) loss: 0.003150\n",
      "(Iteration 4171 / 5000) loss: 0.005937\n",
      "(Iteration 4181 / 5000) loss: 0.032282\n",
      "(Iteration 4191 / 5000) loss: 0.025412\n",
      "(Iteration 4201 / 5000) loss: 0.006751\n",
      "(Iteration 4211 / 5000) loss: 0.023838\n",
      "(Iteration 4221 / 5000) loss: 0.000785\n",
      "(Iteration 4231 / 5000) loss: 0.017206\n",
      "(Iteration 4241 / 5000) loss: 0.003161\n",
      "(Iteration 4251 / 5000) loss: 0.003075\n",
      "(Iteration 4261 / 5000) loss: 0.031124\n",
      "(Iteration 4271 / 5000) loss: 0.004870\n",
      "(Iteration 4281 / 5000) loss: 0.037606\n",
      "(Iteration 4291 / 5000) loss: 0.005118\n",
      "(Iteration 4301 / 5000) loss: 0.010777\n",
      "(Iteration 4311 / 5000) loss: 0.003466\n",
      "(Iteration 4321 / 5000) loss: 0.004481\n",
      "(Iteration 4331 / 5000) loss: 0.019260\n",
      "(Iteration 4341 / 5000) loss: 0.005380\n",
      "(Iteration 4351 / 5000) loss: 0.005066\n",
      "(Iteration 4361 / 5000) loss: 0.002817\n",
      "(Iteration 4371 / 5000) loss: 0.002154\n",
      "(Iteration 4381 / 5000) loss: 0.046562\n",
      "(Iteration 4391 / 5000) loss: 0.003347\n",
      "(Iteration 4401 / 5000) loss: 0.006539\n",
      "(Iteration 4411 / 5000) loss: 0.001060\n",
      "(Iteration 4421 / 5000) loss: 0.004425\n",
      "(Iteration 4431 / 5000) loss: 0.002320\n",
      "(Iteration 4441 / 5000) loss: 0.002045\n",
      "(Iteration 4451 / 5000) loss: 0.003337\n",
      "(Iteration 4461 / 5000) loss: 0.016519\n",
      "(Iteration 4471 / 5000) loss: 0.013597\n",
      "(Iteration 4481 / 5000) loss: 0.023401\n",
      "(Iteration 4491 / 5000) loss: 0.003498\n",
      "(Epoch 9 / 10) train acc: 0.999000; val_acc: 0.981900\n",
      "(Iteration 4501 / 5000) loss: 0.007857\n",
      "(Iteration 4511 / 5000) loss: 0.000850\n",
      "(Iteration 4521 / 5000) loss: 0.005509\n",
      "(Iteration 4531 / 5000) loss: 0.010041\n",
      "(Iteration 4541 / 5000) loss: 0.003444\n",
      "(Iteration 4551 / 5000) loss: 0.004605\n",
      "(Iteration 4561 / 5000) loss: 0.011744\n",
      "(Iteration 4571 / 5000) loss: 0.011845\n",
      "(Iteration 4581 / 5000) loss: 0.008979\n",
      "(Iteration 4591 / 5000) loss: 0.001080\n",
      "(Iteration 4601 / 5000) loss: 0.003822\n",
      "(Iteration 4611 / 5000) loss: 0.007555\n",
      "(Iteration 4621 / 5000) loss: 0.001689\n",
      "(Iteration 4631 / 5000) loss: 0.009795\n",
      "(Iteration 4641 / 5000) loss: 0.006831\n",
      "(Iteration 4651 / 5000) loss: 0.023074\n",
      "(Iteration 4661 / 5000) loss: 0.012641\n",
      "(Iteration 4671 / 5000) loss: 0.006241\n",
      "(Iteration 4681 / 5000) loss: 0.008723\n",
      "(Iteration 4691 / 5000) loss: 0.020315\n",
      "(Iteration 4701 / 5000) loss: 0.024602\n",
      "(Iteration 4711 / 5000) loss: 0.012928\n",
      "(Iteration 4721 / 5000) loss: 0.005534\n",
      "(Iteration 4731 / 5000) loss: 0.008750\n",
      "(Iteration 4741 / 5000) loss: 0.004174\n",
      "(Iteration 4751 / 5000) loss: 0.002364\n",
      "(Iteration 4761 / 5000) loss: 0.003072\n",
      "(Iteration 4771 / 5000) loss: 0.006249\n",
      "(Iteration 4781 / 5000) loss: 0.000937\n",
      "(Iteration 4791 / 5000) loss: 0.002254\n",
      "(Iteration 4801 / 5000) loss: 0.016718\n",
      "(Iteration 4811 / 5000) loss: 0.002664\n",
      "(Iteration 4821 / 5000) loss: 0.005160\n",
      "(Iteration 4831 / 5000) loss: 0.002052\n",
      "(Iteration 4841 / 5000) loss: 0.014341\n",
      "(Iteration 4851 / 5000) loss: 0.004035\n",
      "(Iteration 4861 / 5000) loss: 0.005179\n",
      "(Iteration 4871 / 5000) loss: 0.008181\n",
      "(Iteration 4881 / 5000) loss: 0.004329\n",
      "(Iteration 4891 / 5000) loss: 0.001419\n",
      "(Iteration 4901 / 5000) loss: 0.007258\n",
      "(Iteration 4911 / 5000) loss: 0.004824\n",
      "(Iteration 4921 / 5000) loss: 0.010578\n",
      "(Iteration 4931 / 5000) loss: 0.020837\n",
      "(Iteration 4941 / 5000) loss: 0.008894\n",
      "(Iteration 4951 / 5000) loss: 0.003497\n",
      "(Iteration 4961 / 5000) loss: 0.006681\n",
      "(Iteration 4971 / 5000) loss: 0.011894\n",
      "(Iteration 4981 / 5000) loss: 0.008540\n",
      "(Iteration 4991 / 5000) loss: 0.001472\n",
      "(Epoch 10 / 10) train acc: 0.999000; val_acc: 0.983900\n"
     ]
    }
   ],
   "source": [
    "MNIST_best_model = None\n",
    "\n",
    "################################################################################\n",
    "# TODO: Train the best FullyConnectedNet that you can on MNIST. You might      #\n",
    "# find batch normalization. Store your best model in                           #\n",
    "# the best_model variable.                                                     #\n",
    "################################################################################\n",
    "# *****START OF YOUR CODE (DO NOT DELETE/MODIFY THIS LINE)*****\n",
    "MNIST_best_model = FullyConnectedNet(\"classification\", [320, 80, 20], [False, False, True])\n",
    "data = {'X_train': X_train, 'y_train': y_train, 'X_val': X_val, 'y_val': y_val, 'X_test': X_test, 'y_test': y_test}\n",
    "MNIST_solver = Solver(MNIST_best_model, data=data,\n",
    "                      update_rule=sgd_momentum)\n",
    "MNIST_solver.train()\n"
   ]
  },
  {
   "cell_type": "code",
   "execution_count": 81,
   "id": "25f8a45b",
   "metadata": {
    "pycharm": {
     "name": "#%%\n"
    }
   },
   "outputs": [
    {
     "data": {
      "image/png": "[encoded data removed]",
      "text/plain": [
       "<Figure size 1080x864 with 2 Axes>"
      ]
     },
     "metadata": {
      "needs_background": "light"
     },
     "output_type": "display_data"
    }
   ],
   "source": [
    "# Run this cell to visualize training loss and train / val accuracy\n",
    "\n",
    "plt.subplot(2, 1, 1)\n",
    "plt.title('Training loss')\n",
    "plt.plot(MNIST_solver.loss_history, 'o')\n",
    "plt.xlabel('Iteration')\n",
    "\n",
    "plt.subplot(2, 1, 2)\n",
    "plt.title('Accuracy')\n",
    "plt.plot(MNIST_solver.train_acc_history, '-o', label='train')\n",
    "plt.plot(MNIST_solver.val_acc_history, '-o', label='val')\n",
    "plt.plot([0.8] * len(MNIST_solver.val_acc_history), 'k--')\n",
    "plt.xlabel('Epoch')\n",
    "plt.legend(loc='lower right')\n",
    "plt.gcf().set_size_inches(15, 12)\n",
    "plt.show()"
   ]
  },
  {
   "cell_type": "markdown",
   "id": "19ff7e18",
   "metadata": {
    "pycharm": {
     "name": "#%% md\n"
    }
   },
   "source": [
    "# Test Your Model!\n",
    "Run your best model on the validation and test sets. You should achieve at least 95% accuracy on the validation set."
   ]
  },
  {
   "cell_type": "code",
   "execution_count": 82,
   "id": "3df244fa",
   "metadata": {
    "pycharm": {
     "name": "#%%\n"
    }
   },
   "outputs": [
    {
     "name": "stdout",
     "output_type": "stream",
     "text": [
      "Validation set accuracy:  0.9839\n",
      "Test set accuracy:  0.9821\n"
     ]
    }
   ],
   "source": [
    "y_test_pred = np.argmax(MNIST_best_model.loss(data['X_test']), axis=1)\n",
    "y_val_pred = np.argmax(MNIST_best_model.loss(data['X_val']), axis=1)\n",
    "print('Validation set accuracy: ', (y_val_pred == data['y_val']).mean())\n",
    "print('Test set accuracy: ', (y_test_pred == data['y_test']).mean())"
   ]
  },
  {
   "cell_type": "markdown",
   "id": "5e9b7aa1",
   "metadata": {
    "pycharm": {
     "name": "#%% md\n"
    }
   },
   "source": [
    "# California housing dataset\n",
    "This is a dataset obtained from the [StatLib repository](https://www.dcc.fc.up.pt/~ltorgo/Regression/cal_housing.html). The data pertains to the houses found in a given California district and some summary stats about them based on the 1990 census data."
   ]
  },
  {
   "cell_type": "code",
   "execution_count": 110,
   "id": "b1ee041f",
   "metadata": {
    "pycharm": {
     "name": "#%%\n"
    }
   },
   "outputs": [
    {
     "data": {
      "text/html": [
       "<div>\n",
       "<style scoped>\n",
       "    .dataframe tbody tr th:only-of-type {\n",
       "        vertical-align: middle;\n",
       "    }\n",
       "\n",
       "    .dataframe tbody tr th {\n",
       "        vertical-align: top;\n",
       "    }\n",
       "\n",
       "    .dataframe thead th {\n",
       "        text-align: right;\n",
       "    }\n",
       "</style>\n",
       "<table border=\"1\" class=\"dataframe\">\n",
       "  <thead>\n",
       "    <tr style=\"text-align: right;\">\n",
       "      <th></th>\n",
       "      <th>MedInc</th>\n",
       "      <th>HouseAge</th>\n",
       "      <th>AveRooms</th>\n",
       "      <th>AveBedrms</th>\n",
       "      <th>Population</th>\n",
       "      <th>AveOccup</th>\n",
       "      <th>Latitude</th>\n",
       "      <th>Longitude</th>\n",
       "      <th>MedHouseVal</th>\n",
       "    </tr>\n",
       "  </thead>\n",
       "  <tbody>\n",
       "    <tr>\n",
       "      <th>0</th>\n",
       "      <td>8.3252</td>\n",
       "      <td>41.0</td>\n",
       "      <td>6.984127</td>\n",
       "      <td>1.023810</td>\n",
       "      <td>322.0</td>\n",
       "      <td>2.555556</td>\n",
       "      <td>37.88</td>\n",
       "      <td>-122.23</td>\n",
       "      <td>4.526</td>\n",
       "    </tr>\n",
       "    <tr>\n",
       "      <th>1</th>\n",
       "      <td>8.3014</td>\n",
       "      <td>21.0</td>\n",
       "      <td>6.238137</td>\n",
       "      <td>0.971880</td>\n",
       "      <td>2401.0</td>\n",
       "      <td>2.109842</td>\n",
       "      <td>37.86</td>\n",
       "      <td>-122.22</td>\n",
       "      <td>3.585</td>\n",
       "    </tr>\n",
       "    <tr>\n",
       "      <th>2</th>\n",
       "      <td>7.2574</td>\n",
       "      <td>52.0</td>\n",
       "      <td>8.288136</td>\n",
       "      <td>1.073446</td>\n",
       "      <td>496.0</td>\n",
       "      <td>2.802260</td>\n",
       "      <td>37.85</td>\n",
       "      <td>-122.24</td>\n",
       "      <td>3.521</td>\n",
       "    </tr>\n",
       "    <tr>\n",
       "      <th>3</th>\n",
       "      <td>5.6431</td>\n",
       "      <td>52.0</td>\n",
       "      <td>5.817352</td>\n",
       "      <td>1.073059</td>\n",
       "      <td>558.0</td>\n",
       "      <td>2.547945</td>\n",
       "      <td>37.85</td>\n",
       "      <td>-122.25</td>\n",
       "      <td>3.413</td>\n",
       "    </tr>\n",
       "    <tr>\n",
       "      <th>4</th>\n",
       "      <td>3.8462</td>\n",
       "      <td>52.0</td>\n",
       "      <td>6.281853</td>\n",
       "      <td>1.081081</td>\n",
       "      <td>565.0</td>\n",
       "      <td>2.181467</td>\n",
       "      <td>37.85</td>\n",
       "      <td>-122.25</td>\n",
       "      <td>3.422</td>\n",
       "    </tr>\n",
       "  </tbody>\n",
       "</table>\n",
       "</div>"
      ],
      "text/plain": [
       "   MedInc  HouseAge  AveRooms  AveBedrms  Population  AveOccup  Latitude  \\\n",
       "0  8.3252      41.0  6.984127   1.023810       322.0  2.555556     37.88   \n",
       "1  8.3014      21.0  6.238137   0.971880      2401.0  2.109842     37.86   \n",
       "2  7.2574      52.0  8.288136   1.073446       496.0  2.802260     37.85   \n",
       "3  5.6431      52.0  5.817352   1.073059       558.0  2.547945     37.85   \n",
       "4  3.8462      52.0  6.281853   1.081081       565.0  2.181467     37.85   \n",
       "\n",
       "   Longitude  MedHouseVal  \n",
       "0    -122.23        4.526  \n",
       "1    -122.22        3.585  \n",
       "2    -122.24        3.521  \n",
       "3    -122.25        3.413  \n",
       "4    -122.25        3.422  "
      ]
     },
     "execution_count": 110,
     "metadata": {},
     "output_type": "execute_result"
    }
   ],
   "source": [
    "california_housing = fetch_california_housing(as_frame=True)\n",
    "california_housing.frame.head()"
   ]
  },
  {
   "cell_type": "code",
   "execution_count": 111,
   "id": "bbc5ad10",
   "metadata": {
    "pycharm": {
     "name": "#%%\n"
    }
   },
   "outputs": [
    {
     "name": "stdout",
     "output_type": "stream",
     "text": [
      "Train data shape:  (15640, 8)\n",
      "Train target values shape:  (15640,)\n",
      "Validation data shape:  (2500, 8)\n",
      "Validation target values shape:  (2500,)\n",
      "Test data shape:  (2500, 8)\n",
      "Test target values shape:  (2500,)\n"
     ]
    }
   ],
   "source": [
    "X_train, y_train, X_val, y_val, X_test, y_test = get_california_housing_data()\n",
    "print('Train data shape: ', X_train.shape)\n",
    "print('Train target values shape: ', y_train.shape)\n",
    "print('Validation data shape: ', X_val.shape)\n",
    "print('Validation target values shape: ', y_val.shape)\n",
    "print('Test data shape: ', X_test.shape)\n",
    "print('Test target values shape: ', y_test.shape)"
   ]
  },
  {
   "cell_type": "code",
   "execution_count": 112,
   "id": "30a1eeb3",
   "metadata": {
    "pycharm": {
     "name": "#%%\n"
    }
   },
   "outputs": [],
   "source": [
    "X_train, X_val, X_test = get_california_housing_normalized__data(X_train, X_val, X_test)"
   ]
  },
  {
   "cell_type": "markdown",
   "id": "a1179b5c",
   "metadata": {
    "pycharm": {
     "name": "#%% md\n"
    }
   },
   "source": [
    "# Train a Good Model!\n",
    "Train the best fully connected model that you can on california housing, storing your best model in the `california_housing_best_model` variable."
   ]
  },
  {
   "cell_type": "code",
   "execution_count": 143,
   "id": "2fae7eca",
   "metadata": {
    "pycharm": {
     "name": "#%%\n"
    }
   },
   "outputs": [
    {
     "name": "stdout",
     "output_type": "stream",
     "text": [
      "(Iteration 1 / 1560) loss: 5.119351\n",
      "(Epoch 0 / 10) train RMS error: 2.268702; val RMS error: 2.911718\n",
      "(Iteration 11 / 1560) loss: 1.563933\n",
      "(Iteration 21 / 1560) loss: 0.962086\n",
      "(Iteration 31 / 1560) loss: 1.324103\n",
      "(Iteration 41 / 1560) loss: 1.208022\n",
      "(Iteration 51 / 1560) loss: 1.451829\n",
      "(Iteration 61 / 1560) loss: 1.352920\n",
      "(Iteration 71 / 1560) loss: 1.345416\n",
      "(Iteration 81 / 1560) loss: 1.504472\n",
      "(Iteration 91 / 1560) loss: 1.193672\n",
      "(Iteration 101 / 1560) loss: 1.179366\n",
      "(Iteration 111 / 1560) loss: 1.791104\n",
      "(Iteration 121 / 1560) loss: 1.308220\n",
      "(Iteration 131 / 1560) loss: 1.210469\n",
      "(Iteration 141 / 1560) loss: 1.216950\n",
      "(Iteration 151 / 1560) loss: 1.058079\n",
      "(Epoch 1 / 10) train RMS error: 1.074335; val RMS error: 1.417511\n",
      "(Iteration 161 / 1560) loss: 1.069135\n",
      "(Iteration 171 / 1560) loss: 1.571564\n",
      "(Iteration 181 / 1560) loss: 1.082107\n",
      "(Iteration 191 / 1560) loss: 0.933226\n",
      "(Iteration 201 / 1560) loss: 1.052623\n",
      "(Iteration 211 / 1560) loss: 1.087926\n",
      "(Iteration 221 / 1560) loss: 1.494702\n",
      "(Iteration 231 / 1560) loss: 1.546264\n",
      "(Iteration 241 / 1560) loss: 1.053404\n",
      "(Iteration 251 / 1560) loss: 1.190644\n",
      "(Iteration 261 / 1560) loss: 1.130197\n",
      "(Iteration 271 / 1560) loss: 1.201761\n",
      "(Iteration 281 / 1560) loss: 1.266616\n",
      "(Iteration 291 / 1560) loss: 1.145994\n",
      "(Iteration 301 / 1560) loss: 0.883125\n",
      "(Iteration 311 / 1560) loss: 1.231741\n",
      "(Epoch 2 / 10) train RMS error: 1.165011; val RMS error: 1.414099\n",
      "(Iteration 321 / 1560) loss: 1.220747\n",
      "(Iteration 331 / 1560) loss: 1.418923\n",
      "(Iteration 341 / 1560) loss: 1.198851\n",
      "(Iteration 351 / 1560) loss: 1.202464\n",
      "(Iteration 361 / 1560) loss: 1.857864\n",
      "(Iteration 371 / 1560) loss: 1.050754\n",
      "(Iteration 381 / 1560) loss: 0.916608\n",
      "(Iteration 391 / 1560) loss: 1.244930\n",
      "(Iteration 401 / 1560) loss: 0.781594\n",
      "(Iteration 411 / 1560) loss: 1.284531\n",
      "(Iteration 421 / 1560) loss: 1.208254\n",
      "(Iteration 431 / 1560) loss: 1.136625\n",
      "(Iteration 441 / 1560) loss: 1.349425\n",
      "(Iteration 451 / 1560) loss: 1.200058\n",
      "(Iteration 461 / 1560) loss: 1.384036\n",
      "(Epoch 3 / 10) train RMS error: 1.124561; val RMS error: 1.399155\n",
      "(Iteration 471 / 1560) loss: 0.998394\n",
      "(Iteration 481 / 1560) loss: 1.094923\n",
      "(Iteration 491 / 1560) loss: 0.883771\n",
      "(Iteration 501 / 1560) loss: 1.326302\n",
      "(Iteration 511 / 1560) loss: 1.068861\n",
      "(Iteration 521 / 1560) loss: 1.078549\n",
      "(Iteration 531 / 1560) loss: 0.942448\n",
      "(Iteration 541 / 1560) loss: 1.600740\n",
      "(Iteration 551 / 1560) loss: 1.469964\n",
      "(Iteration 561 / 1560) loss: 0.922024\n",
      "(Iteration 571 / 1560) loss: 1.228946\n",
      "(Iteration 581 / 1560) loss: 1.273253\n",
      "(Iteration 591 / 1560) loss: 0.842114\n",
      "(Iteration 601 / 1560) loss: 1.743766\n",
      "(Iteration 611 / 1560) loss: 1.107208\n",
      "(Iteration 621 / 1560) loss: 1.220856\n",
      "(Epoch 4 / 10) train RMS error: 1.082083; val RMS error: 1.432011\n",
      "(Iteration 631 / 1560) loss: 1.261617\n",
      "(Iteration 641 / 1560) loss: 1.453956\n",
      "(Iteration 651 / 1560) loss: 1.111090\n",
      "(Iteration 661 / 1560) loss: 1.252103\n",
      "(Iteration 671 / 1560) loss: 1.459562\n",
      "(Iteration 681 / 1560) loss: 1.165776\n",
      "(Iteration 691 / 1560) loss: 1.164085\n",
      "(Iteration 701 / 1560) loss: 1.226999\n",
      "(Iteration 711 / 1560) loss: 1.174757\n",
      "(Iteration 721 / 1560) loss: 1.133620\n",
      "(Iteration 731 / 1560) loss: 0.994590\n",
      "(Iteration 741 / 1560) loss: 1.010870\n",
      "(Iteration 751 / 1560) loss: 1.113925\n",
      "(Iteration 761 / 1560) loss: 1.318639\n",
      "(Iteration 771 / 1560) loss: 1.583354\n",
      "(Epoch 5 / 10) train RMS error: 1.098197; val RMS error: 1.427419\n",
      "(Iteration 781 / 1560) loss: 0.981837\n",
      "(Iteration 791 / 1560) loss: 1.622449\n",
      "(Iteration 801 / 1560) loss: 1.409705\n",
      "(Iteration 811 / 1560) loss: 1.287300\n",
      "(Iteration 821 / 1560) loss: 1.357362\n",
      "(Iteration 831 / 1560) loss: 1.009628\n",
      "(Iteration 841 / 1560) loss: 1.324619\n",
      "(Iteration 851 / 1560) loss: 1.436082\n",
      "(Iteration 861 / 1560) loss: 1.289348\n",
      "(Iteration 871 / 1560) loss: 1.187567\n",
      "(Iteration 881 / 1560) loss: 1.190880\n",
      "(Iteration 891 / 1560) loss: 1.258526\n",
      "(Iteration 901 / 1560) loss: 1.473836\n",
      "(Iteration 911 / 1560) loss: 1.065040\n",
      "(Iteration 921 / 1560) loss: 1.587258\n",
      "(Iteration 931 / 1560) loss: 1.602111\n",
      "(Epoch 6 / 10) train RMS error: 1.071549; val RMS error: 1.433591\n",
      "(Iteration 941 / 1560) loss: 1.356821\n",
      "(Iteration 951 / 1560) loss: 1.167511\n",
      "(Iteration 961 / 1560) loss: 1.745159\n",
      "(Iteration 971 / 1560) loss: 0.874728\n",
      "(Iteration 981 / 1560) loss: 1.231702\n",
      "(Iteration 991 / 1560) loss: 1.665022\n",
      "(Iteration 1001 / 1560) loss: 1.653698\n",
      "(Iteration 1011 / 1560) loss: 1.225664\n",
      "(Iteration 1021 / 1560) loss: 1.211986\n",
      "(Iteration 1031 / 1560) loss: 1.277156\n",
      "(Iteration 1041 / 1560) loss: 0.960390\n",
      "(Iteration 1051 / 1560) loss: 1.411936\n",
      "(Iteration 1061 / 1560) loss: 1.314732\n",
      "(Iteration 1071 / 1560) loss: 1.289567\n",
      "(Iteration 1081 / 1560) loss: 1.260219\n",
      "(Iteration 1091 / 1560) loss: 1.348890\n",
      "(Epoch 7 / 10) train RMS error: 1.074366; val RMS error: 1.384427\n",
      "(Iteration 1101 / 1560) loss: 1.166358\n",
      "(Iteration 1111 / 1560) loss: 1.448769\n",
      "(Iteration 1121 / 1560) loss: 1.293121\n",
      "(Iteration 1131 / 1560) loss: 1.169387\n",
      "(Iteration 1141 / 1560) loss: 1.127383\n",
      "(Iteration 1151 / 1560) loss: 1.186373\n",
      "(Iteration 1161 / 1560) loss: 1.428016\n",
      "(Iteration 1171 / 1560) loss: 1.363175\n",
      "(Iteration 1181 / 1560) loss: 1.116280\n",
      "(Iteration 1191 / 1560) loss: 1.235884\n",
      "(Iteration 1201 / 1560) loss: 1.390134\n",
      "(Iteration 1211 / 1560) loss: 1.271150\n",
      "(Iteration 1221 / 1560) loss: 1.423511\n",
      "(Iteration 1231 / 1560) loss: 1.048556\n",
      "(Iteration 1241 / 1560) loss: 1.131647\n",
      "(Epoch 8 / 10) train RMS error: 1.150305; val RMS error: 1.428522\n",
      "(Iteration 1251 / 1560) loss: 0.859497\n",
      "(Iteration 1261 / 1560) loss: 1.018862\n",
      "(Iteration 1271 / 1560) loss: 1.228262\n",
      "(Iteration 1281 / 1560) loss: 1.497318\n",
      "(Iteration 1291 / 1560) loss: 0.861224\n",
      "(Iteration 1301 / 1560) loss: 1.338413\n",
      "(Iteration 1311 / 1560) loss: 1.421491\n",
      "(Iteration 1321 / 1560) loss: 1.412634\n",
      "(Iteration 1331 / 1560) loss: 1.061992\n",
      "(Iteration 1341 / 1560) loss: 1.134135\n",
      "(Iteration 1351 / 1560) loss: 1.137565\n",
      "(Iteration 1361 / 1560) loss: 1.040214\n",
      "(Iteration 1371 / 1560) loss: 1.324584\n",
      "(Iteration 1381 / 1560) loss: 1.113444\n",
      "(Iteration 1391 / 1560) loss: 1.308943\n",
      "(Iteration 1401 / 1560) loss: 0.960924\n",
      "(Epoch 9 / 10) train RMS error: 1.138873; val RMS error: 1.437100\n",
      "(Iteration 1411 / 1560) loss: 1.055661\n",
      "(Iteration 1421 / 1560) loss: 1.443745\n",
      "(Iteration 1431 / 1560) loss: 1.121337\n",
      "(Iteration 1441 / 1560) loss: 1.246465\n",
      "(Iteration 1451 / 1560) loss: 1.367065\n",
      "(Iteration 1461 / 1560) loss: 1.254391\n",
      "(Iteration 1471 / 1560) loss: 1.208309\n",
      "(Iteration 1481 / 1560) loss: 1.292042\n",
      "(Iteration 1491 / 1560) loss: 1.304503\n",
      "(Iteration 1501 / 1560) loss: 1.218007\n",
      "(Iteration 1511 / 1560) loss: 1.382771\n",
      "(Iteration 1521 / 1560) loss: 0.779302\n",
      "(Iteration 1531 / 1560) loss: 1.439444\n",
      "(Iteration 1541 / 1560) loss: 1.073140\n",
      "(Iteration 1551 / 1560) loss: 1.267240\n",
      "(Epoch 10 / 10) train RMS error: 1.092605; val RMS error: 1.381151\n"
     ]
    }
   ],
   "source": [
    "california_housing_best_model = None\n",
    "\n",
    "################################################################################\n",
    "# TODO: Train the best FullyConnectedNet that you can on california housing.   #\n",
    "# You might find batch normalization useful. Store your best model in          #\n",
    "# the best_model variable.                                                     #\n",
    "################################################################################\n",
    "# *****START OF YOUR CODE (DO NOT DELETE/MODIFY THIS LINE)*****\n",
    "california_housing_best_model = FullyConnectedNet(\"regression\", [9], [True], X_train.shape[1], 1)\n",
    "data = {'X_train': X_train, 'y_train': y_train, 'X_val': X_val, 'y_val': y_val, 'X_test': X_test, 'y_test': y_test}\n",
    "california_housing_solver = Solver(california_housing_best_model, data=data,\n",
    "                      update_rule=sgd_momentum)\n",
    "california_housing_solver.train()"
   ]
  },
  {
   "cell_type": "code",
   "execution_count": 144,
   "id": "43e51742",
   "metadata": {
    "pycharm": {
     "name": "#%%\n"
    }
   },
   "outputs": [
    {
     "data": {
      "image/png": "[encoded data removed]",
      "text/plain": [
       "<Figure size 1080x864 with 2 Axes>"
      ]
     },
     "metadata": {
      "needs_background": "light"
     },
     "output_type": "display_data"
    }
   ],
   "source": [
    "# Run this cell to visualize training loss and train / val RMS error\n",
    "\n",
    "plt.subplot(2, 1, 1)\n",
    "plt.title('Training loss')\n",
    "plt.plot(california_housing_solver.loss_history, 'o')\n",
    "plt.xlabel('Iteration')\n",
    "\n",
    "plt.subplot(2, 1, 2)\n",
    "plt.title('RMS Error')\n",
    "plt.plot(california_housing_solver.train_acc_history, '-o', label='train')\n",
    "plt.plot(california_housing_solver.val_acc_history, '-o', label='val')\n",
    "plt.xlabel('Epoch')\n",
    "plt.legend(loc='lower right')\n",
    "plt.gcf().set_size_inches(15, 12)\n",
    "plt.show()"
   ]
  }
 ],
 "metadata": {
  "kernelspec": {
   "display_name": "Python 3 (ipykernel)",
   "language": "python",
   "name": "python3"
  },
  "language_info": {
   "codemirror_mode": {
    "name": "ipython",
    "version": 3
   },
   "file_extension": ".py",
   "mimetype": "text/x-python",
   "name": "python",
   "nbconvert_exporter": "python",
   "pygments_lexer": "ipython3",
   "version": "3.10.5"
  }
 },
 "nbformat": 4,
 "nbformat_minor": 5
}
